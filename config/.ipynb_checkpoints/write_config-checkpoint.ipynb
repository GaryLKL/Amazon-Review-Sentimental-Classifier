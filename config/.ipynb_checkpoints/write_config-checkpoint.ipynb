{
 "cells": [
  {
   "cell_type": "code",
   "execution_count": 1,
   "metadata": {
    "ExecuteTime": {
     "end_time": "2020-07-28T03:16:06.563353Z",
     "start_time": "2020-07-28T03:16:06.560188Z"
    }
   },
   "outputs": [],
   "source": [
    "from configparser import ConfigParser\n",
    "config = ConfigParser()"
   ]
  },
  {
   "cell_type": "code",
   "execution_count": 2,
   "metadata": {
    "ExecuteTime": {
     "end_time": "2020-07-28T03:16:07.057962Z",
     "start_time": "2020-07-28T03:16:07.055817Z"
    }
   },
   "outputs": [],
   "source": [
    "# https://officeguide.cc/configparser-python-configuration-file-parser-tutorial/\n",
    "\n",
    "# path starts from root as always"
   ]
  },
  {
   "cell_type": "code",
   "execution_count": 3,
   "metadata": {
    "ExecuteTime": {
     "end_time": "2020-07-28T03:16:07.381637Z",
     "start_time": "2020-07-28T03:16:07.374963Z"
    }
   },
   "outputs": [],
   "source": [
    "''' preprocessing '''\n",
    "# text cleaning\n",
    "config[\"text_cleaning\"] = {}\n",
    "config[\"text_cleaning\"][\"data_path\"] = \"dataset/\"\n",
    "\n",
    "# feature engineering\n",
    "config[\"feature_engineering\"] = {}\n",
    "config[\"feature_engineering\"][\"data_path\"] = \"/home/kll482/cathay/dataset\"\n",
    "config[\"feature_engineering\"][\"amazon_file_path\"] = \"dataset/amazon_reviews/\"\n",
    "config[\"feature_engineering\"][\"review_tokens\"] = \"dataset/full_dataset/review_tokens.json\"\n",
    "config[\"feature_engineering\"][\"modeling_feature_path\"] = \"dataset/full_dataset/modeling_features.json\"\n",
    "config[\"feature_engineering\"][\"original_feature_path\"] = \"dataset/full_dataset/original_features.json\"\n",
    "config[\"feature_engineering\"][\"neighbor\"] = \"2\"\n",
    "\n",
    "# models\n",
    "config[\"graph_models\"] = {}\n",
    "config[\"graph_models\"][\"data_path\"] = \"dataset/processed_dataset/\"\n",
    "config[\"graph_models\"][\"modeling_feature_path\"] = \"dataset/full_dataset/modeling_features.json\"\n",
    "config[\"graph_models\"][\"partial_feature_path\"] = \"dataset/full_dataset/partial_features.json\"\n",
    "config[\"graph_models\"][\"use_cuda\"] = \"1\"\n",
    "config[\"graph_models\"][\"set_seed\"] = \"123\"\n",
    "config[\"graph_models\"][\"result\"] = \"result/\"\n"
   ]
  },
  {
   "cell_type": "code",
   "execution_count": 4,
   "metadata": {
    "ExecuteTime": {
     "end_time": "2020-07-28T03:16:07.776947Z",
     "start_time": "2020-07-28T03:16:07.773423Z"
    }
   },
   "outputs": [],
   "source": [
    "# write to config.ini\n",
    "with open('myconfig.ini', 'w') as configfile:\n",
    "    config.write(configfile)"
   ]
  },
  {
   "cell_type": "code",
   "execution_count": null,
   "metadata": {},
   "outputs": [],
   "source": []
  }
 ],
 "metadata": {
  "kernelspec": {
   "display_name": "Python 3",
   "language": "python",
   "name": "python3"
  },
  "language_info": {
   "codemirror_mode": {
    "name": "ipython",
    "version": 3
   },
   "file_extension": ".py",
   "mimetype": "text/x-python",
   "name": "python",
   "nbconvert_exporter": "python",
   "pygments_lexer": "ipython3",
   "version": "3.7.7"
  },
  "latex_envs": {
   "LaTeX_envs_menu_present": true,
   "autoclose": false,
   "autocomplete": true,
   "bibliofile": "biblio.bib",
   "cite_by": "apalike",
   "current_citInitial": 1,
   "eqLabelWithNumbers": true,
   "eqNumInitial": 1,
   "hotkeys": {
    "equation": "Ctrl-E",
    "itemize": "Ctrl-I"
   },
   "labels_anchors": false,
   "latex_user_defs": false,
   "report_style_numbering": false,
   "user_envs_cfg": false
  },
  "varInspector": {
   "cols": {
    "lenName": 16,
    "lenType": 16,
    "lenVar": 40
   },
   "kernels_config": {
    "python": {
     "delete_cmd_postfix": "",
     "delete_cmd_prefix": "del ",
     "library": "var_list.py",
     "varRefreshCmd": "print(var_dic_list())"
    },
    "r": {
     "delete_cmd_postfix": ") ",
     "delete_cmd_prefix": "rm(",
     "library": "var_list.r",
     "varRefreshCmd": "cat(var_dic_list()) "
    }
   },
   "types_to_exclude": [
    "module",
    "function",
    "builtin_function_or_method",
    "instance",
    "_Feature"
   ],
   "window_display": false
  }
 },
 "nbformat": 4,
 "nbformat_minor": 4
}
