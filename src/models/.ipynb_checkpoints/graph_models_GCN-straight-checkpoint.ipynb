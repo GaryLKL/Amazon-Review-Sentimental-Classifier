{
 "cells": [
  {
   "cell_type": "markdown",
   "metadata": {},
   "source": [
    "## 1. Packages"
   ]
  },
  {
   "cell_type": "code",
   "execution_count": 1,
   "metadata": {
    "ExecuteTime": {
     "end_time": "2020-08-05T07:13:23.407418Z",
     "start_time": "2020-08-05T07:13:23.398377Z"
    }
   },
   "outputs": [
    {
     "name": "stdout",
     "output_type": "stream",
     "text": [
      "Current Working Directory: /scratch/kll482/cathay\n",
      "Config Sections: ['text_cleaning', 'feature_engineering', 'graph_models']\n"
     ]
    }
   ],
   "source": [
    "''' root '''\n",
    "import os\n",
    "os.chdir(\"/scratch/kll482/cathay\")\n",
    "print(\"Current Working Directory:\", os.getcwd())\n",
    "\n",
    "import sys\n",
    "sys.path.append(\"/scratch/kll482/cathay/\")\n",
    "\n",
    "''' config '''\n",
    "from configparser import ConfigParser\n",
    "config = ConfigParser()\n",
    "config.read(\"config/config.ini\")\n",
    "print(\"Config Sections:\", config.sections())\n",
    "args = config[\"graph_models\"]"
   ]
  },
  {
   "cell_type": "code",
   "execution_count": 2,
   "metadata": {
    "ExecuteTime": {
     "end_time": "2020-08-05T07:15:33.614186Z",
     "start_time": "2020-08-05T07:15:33.609071Z"
    }
   },
   "outputs": [],
   "source": [
    "''' packages '''\n",
    "# 1. models\n",
    "import torch, torchvision\n",
    "import torch\n",
    "import torch.nn.functional as F\n",
    "from torch import nn\n",
    "import torch.optim as optim\n",
    "from torch_geometric.data import Data, DataLoader\n",
    "from torch_geometric.data import InMemoryDataset, Dataset, download_url\n",
    "from torch.utils.data import random_split\n",
    "import torch_geometric.transforms as T\n",
    "from torch_geometric.nn import GCNConv, GATConv, global_mean_pool\n",
    "from sklearn.utils import shuffle\n",
    "from sklearn.metrics import confusion_matrix, classification_report\n",
    "from sklearn.model_selection import train_test_split\n",
    "\n",
    "# 2. others\n",
    "from tqdm import tqdm_notebook as tqdm\n",
    "import multiprocessing as mp\n",
    "import argparse\n",
    "import pandas as pd, numpy as np\n",
    "import time\n",
    "import pickle\n",
    "from datetime import datetime\n",
    "import matplotlib.pyplot as plt\n",
    "import seaborn as sns\n",
    "from textblob import TextBlob\n",
    "# from tensorboardX import SummaryWriter\n",
    "# writer = SummaryWriter(\"logs/graph/\")\n",
    "\n",
    "# 3. custom\n",
    "from src.preprocessing.feature_engineering.bert_embedding import BertEmbedding\n",
    "from src.utils.vocabulary import Vocabulary\n",
    "from src.utils.pipeline import Pipe"
   ]
  },
  {
   "cell_type": "markdown",
   "metadata": {},
   "source": [
    "## 2.1. Initial Variables & Parameters"
   ]
  },
  {
   "cell_type": "code",
   "execution_count": 3,
   "metadata": {
    "ExecuteTime": {
     "end_time": "2020-08-05T07:13:28.592867Z",
     "start_time": "2020-08-05T07:13:28.589113Z"
    }
   },
   "outputs": [],
   "source": [
    "''' Hyperparameters '''\n",
    "parser = {\n",
    "    \"batch_size\": 64,\n",
    "    \"seed\": 5, # random seed\n",
    "    \"epochs\": 10,\n",
    "    \"cuda\": True, # use cuda or not\n",
    "    \"log_every\": 50,\n",
    "    \"lr\": 0.05,  # initial learning rate\n",
    "    \"lr_decay\": 0.7,  # decay lr when not observing improvement in val_loss\n",
    "    \"lr_min\": 1e-5,  # stop when lr is too low\n",
    "    \"n_bad_loss\": 4,  # number of bad val_loss before decaying\n",
    "    \"result_path\": \"result/graph/\",  # path to save models\n",
    "    \"log_path\": \"logs/graph/\",\n",
    "}\n",
    "config = argparse.Namespace(**parser)"
   ]
  },
  {
   "cell_type": "code",
   "execution_count": 4,
   "metadata": {},
   "outputs": [],
   "source": [
    "''' General '''\n",
    "config.USE_CUDA = bool(int(args[\"use_cuda\"]))\n",
    "config.SEED = int(args[\"set_seed\"])\n",
    "config.MODELING_FEATURE_PATH = args[\"partial_feature_path\"]\n",
    "config.DATA_PATH = args[\"data_path\"]\n",
    "config.NUM_FEATURES = 768\n",
    "config.N_CLASSES = 1\n",
    "config.TARGET = \"overall\"\n",
    "config.EDGE_INDEX = \"edgeIndex1\"\n",
    "config.NODES = \"uniqueTokens\""
   ]
  },
  {
   "cell_type": "markdown",
   "metadata": {},
   "source": [
    "## 2.2. CUDA Settings"
   ]
  },
  {
   "cell_type": "code",
   "execution_count": 5,
   "metadata": {
    "ExecuteTime": {
     "end_time": "2020-08-05T07:13:29.284510Z",
     "start_time": "2020-08-05T07:13:29.276557Z"
    }
   },
   "outputs": [
    {
     "name": "stdout",
     "output_type": "stream",
     "text": [
      "cuda on:  True\n"
     ]
    }
   ],
   "source": [
    "# os.environ[\"CUDA_VISIBLE_DEVICES\"] = \"1\"\n",
    "config.USE_CUDA = config.USE_CUDA and torch.cuda.is_available()\n",
    "print(\"cuda on: \", config.USE_CUDA)\n",
    "if config.USE_CUDA:\n",
    "    torch.cuda.manual_seed(config.SEED)\n",
    "    torch.backends.cudnn.deterministic = True\n",
    "else:\n",
    "    torch.manual_seed(config.SEED)\n",
    "    \n",
    "device = torch.device(\"cuda:0\" if config.USE_CUDA else \"cpu\")"
   ]
  },
  {
   "cell_type": "code",
   "execution_count": 6,
   "metadata": {
    "ExecuteTime": {
     "end_time": "2020-08-05T07:13:29.480321Z",
     "start_time": "2020-08-05T07:13:29.476385Z"
    }
   },
   "outputs": [],
   "source": [
    "def seed_torch(seed=config.SEED):\n",
    "    #random.seed(seed)\n",
    "    #os.environ['PYTHONHASHSEED'] = str(seed)\n",
    "    np.random.seed(seed)\n",
    "    torch.manual_seed(seed)\n",
    "    torch.cuda.manual_seed(seed)\n",
    "    torch.cuda.manual_seed_all(seed) # if you are using multi-GPU.\n",
    "    torch.backends.cudnn.benchmark = False\n",
    "    torch.backends.cudnn.deterministic = True"
   ]
  },
  {
   "cell_type": "markdown",
   "metadata": {},
   "source": [
    "## 3-0. Data"
   ]
  },
  {
   "cell_type": "code",
   "execution_count": 8,
   "metadata": {
    "ExecuteTime": {
     "end_time": "2020-08-05T07:14:27.559723Z",
     "start_time": "2020-08-05T07:13:30.485201Z"
    }
   },
   "outputs": [
    {
     "name": "stdout",
     "output_type": "stream",
     "text": [
      "read the datasets...\n"
     ]
    }
   ],
   "source": [
    "print(\"read the datasets...\")\n",
    "# file_path = [file for file in os.listdir(config.DATA_PATH) if file.endswith(\".json\")]\n",
    "# file_path = ['straight_Video_Games_5.json', 'straight_Musical_Instruments_5.json']\n",
    "file_path = ['straight_Musical_Instruments_5.json']\n",
    "config.dataset_used = \"\\t\".join(file_path)\n",
    "\n",
    "files = []\n",
    "for file in file_path:    \n",
    "    files.append(pd.read_json(os.path.join(config.DATA_PATH, file)))\n",
    "    \n",
    "df = pd.concat(files)"
   ]
  },
  {
   "cell_type": "code",
   "execution_count": 9,
   "metadata": {},
   "outputs": [
    {
     "data": {
      "text/plain": [
       "(230981, 5)"
      ]
     },
     "execution_count": 9,
     "metadata": {},
     "output_type": "execute_result"
    }
   ],
   "source": [
    "df.shape"
   ]
  },
  {
   "cell_type": "markdown",
   "metadata": {},
   "source": [
    "## 3-1. Exploration\n",
    "\n",
    "Let's take a look at the distribution of word count (by overall)."
   ]
  },
  {
   "cell_type": "markdown",
   "metadata": {},
   "source": [
    "### 3-1-1. Review Count vs. Unique Review Count"
   ]
  },
  {
   "cell_type": "code",
   "execution_count": 20,
   "metadata": {},
   "outputs": [],
   "source": [
    "def token_statistics(tokens):\n",
    "    print(\"max:\", max(tokens))\n",
    "    print(\"min:\", min(tokens))\n",
    "    print(\"median:\", np.median(tokens))\n",
    "    print(\"mean:\", np.mean(tokens))\n",
    "    print(\"Q3:\", np.quantile(tokens, 0.75))\n",
    "    print(\"Q1:\", np.quantile(tokens, 0.25))\n",
    "    print(\"Q(90%):\", np.quantile(tokens, 0.9))\n",
    "    return"
   ]
  },
  {
   "cell_type": "code",
   "execution_count": 22,
   "metadata": {},
   "outputs": [
    {
     "name": "stdout",
     "output_type": "stream",
     "text": [
      "=== Review Count ===\n",
      "max: 2191\n",
      "min: 1\n",
      "median: 14.0\n",
      "mean: 29.245665227875886\n",
      "Q3: 32.0\n",
      "Q1: 5.0\n",
      "Q(90%): 69.0\n",
      "\n",
      "=== Unique Review Count ===\n",
      "max: 871\n",
      "min: 1\n",
      "median: 13.0\n",
      "mean: 23.368489183092983\n",
      "Q3: 28.0\n",
      "Q1: 5.0\n",
      "Q(90%): 55.0\n"
     ]
    }
   ],
   "source": [
    "review_count = [len(row) for row in df[\"reviewTokens\"]]\n",
    "unique_count = [len(row) for row in df[\"uniqueTokens\"]]\n",
    "\n",
    "print(\"=== Review Count ===\")\n",
    "token_statistics(review_count)\n",
    "\n",
    "print(\"\\n=== Unique Review Count ===\")\n",
    "token_statistics(unique_count)"
   ]
  },
  {
   "cell_type": "markdown",
   "metadata": {},
   "source": [
    "### 3-1-2. Overall vs.  Tokens"
   ]
  },
  {
   "cell_type": "code",
   "execution_count": 30,
   "metadata": {},
   "outputs": [
    {
     "name": "stdout",
     "output_type": "stream",
     "text": [
      "Average Review Tokens in Overall 1: 21.0\n",
      "Average Review Tokens in Overall 2: 24.0\n",
      "Average Review Tokens in Overall 3: 20.0\n",
      "Average Review Tokens in Overall 4: 18.0\n",
      "Average Review Tokens in Overall 5: 12.0\n"
     ]
    },
    {
     "data": {
      "image/png": "[encoded data removed]",
      "text/plain": [
       "<Figure size 432x288 with 1 Axes>"
      ]
     },
     "metadata": {
      "needs_background": "light"
     },
     "output_type": "display_data"
    }
   ],
   "source": [
    "for i in range(1, 6):\n",
    "    subdf = df[df[\"overall\"] == i]\n",
    "    sub_word_len = [len(row) for row in subdf[\"reviewTokens\"]]\n",
    "    print(\"Median Review Tokens in Overall {}: {}\".format(i, np.median(sub_word_len)))\n",
    "    sns.distplot(sub_word_len, hist=True)\n",
    "    plt.legend(range(1, 6))\n",
    "    plt.xlabel(\"word count\")\n",
    "    plt.title(\"Review Tokens vs. Overall Score\")"
   ]
  },
  {
   "cell_type": "code",
   "execution_count": 31,
   "metadata": {},
   "outputs": [
    {
     "name": "stdout",
     "output_type": "stream",
     "text": [
      "Median Unique Tokens in Overall 1: 19.0\n",
      "Median Unique Tokens in Overall 2: 21.0\n",
      "Median Unique Tokens in Overall 3: 18.0\n",
      "Median Unique Tokens in Overall 4: 16.0\n",
      "Median Unique Tokens in Overall 5: 11.0\n"
     ]
    },
    {
     "data": {
      "image/png": "[encoded data removed]",
      "text/plain": [
       "<Figure size 432x288 with 1 Axes>"
      ]
     },
     "metadata": {
      "needs_background": "light"
     },
     "output_type": "display_data"
    }
   ],
   "source": [
    "for i in range(1, 6):\n",
    "    subdf = df[df[\"overall\"] == i]\n",
    "    sub_word_len = [len(row) for row in subdf[\"uniqueTokens\"]]\n",
    "    print(\"Median Unique Tokens in Overall {}: {}\".format(i, np.median(sub_word_len)))\n",
    "    sns.distplot(sub_word_len, hist=True)\n",
    "    plt.legend(range(1, 6))\n",
    "    plt.xlabel(\"word count\")\n",
    "    plt.title(\"Unique Tokens vs. Overall Score\")"
   ]
  },
  {
   "cell_type": "markdown",
   "metadata": {},
   "source": [
    "### 3-1-3. Label Count\n",
    "\n",
    "Let's take a look at the number of sample in each label (overall)."
   ]
  },
  {
   "cell_type": "code",
   "execution_count": 12,
   "metadata": {},
   "outputs": [
    {
     "data": {
      "text/plain": [
       "<AxesSubplot:xlabel='overall', ylabel='count'>"
      ]
     },
     "execution_count": 12,
     "metadata": {},
     "output_type": "execute_result"
    },
    {
     "data": {
      "image/png": "[encoded data removed]",
      "text/plain": [
       "<Figure size 432x288 with 1 Axes>"
      ]
     },
     "metadata": {
      "needs_background": "light"
     },
     "output_type": "display_data"
    }
   ],
   "source": [
    "sns.countplot(x = 'overall', data=df)"
   ]
  },
  {
   "cell_type": "markdown",
   "metadata": {},
   "source": [
    "## 3-2. Review Score to Positive/Negative"
   ]
  },
  {
   "cell_type": "code",
   "execution_count": 32,
   "metadata": {},
   "outputs": [],
   "source": [
    "def reclassify(df, target=\"overall\"):\n",
    "    '''\n",
    "    1. score 3 & 4 & 5 -> 1 (positive)\n",
    "    2. score 1 & 2 -> 0 (negative)\n",
    "    '''\n",
    "    y = []\n",
    "    for gp in df[target]:\n",
    "        if gp in [3, 4, 5]:\n",
    "            y.append(1)\n",
    "        elif gp in [1, 2]:\n",
    "            y.append(0)\n",
    "    assert len(y) == df.shape[0]\n",
    "    \n",
    "    return y"
   ]
  },
  {
   "cell_type": "code",
   "execution_count": 33,
   "metadata": {},
   "outputs": [],
   "source": [
    "df[\"y\"] = reclassify(df, \"overall\")\n",
    "config.TARGET = \"y\" # this will be used to set up model pipeline so that I won't have to change the target name quite often."
   ]
  },
  {
   "cell_type": "code",
   "execution_count": 34,
   "metadata": {},
   "outputs": [],
   "source": [
    "# check if there is no strange value among the target variable\n",
    "assert sum(df[config.TARGET].isna()) == 0"
   ]
  },
  {
   "cell_type": "markdown",
   "metadata": {},
   "source": [
    "## 3-3. Train Test Split"
   ]
  },
  {
   "cell_type": "code",
   "execution_count": 35,
   "metadata": {},
   "outputs": [],
   "source": [
    "def dataset_split(df, train_percent=0.8, val_percent=0.1, set_seed=config.SEED):\n",
    "    n = df.shape[0] # get length of dataframe\n",
    "\n",
    "    # I will set the percentage of validation and test sets to be both 0.1\n",
    "    train_index, rest_index = train_test_split(range(n), train_size=0.8, random_state=config.SEED)\n",
    "    val_index, test_index = train_test_split(rest_index, train_size=(val_percent/(1-train_percent)), random_state=config.SEED) # 0.1/(1-0.8) = 0.1/0.2 = 0.5\n",
    "\n",
    "    # check if there is any intersection among all three sets\n",
    "    assert len(set(train_index + val_index + test_index)) == n\n",
    "\n",
    "    # get sub_datasets by random_split\n",
    "    np.random.seed(config.SEED)\n",
    "    train_df, val_df, test_df = df.iloc[train_index, :].reset_index(drop=True),\\\n",
    "                                df.iloc[val_index, :].reset_index(drop=True),\\\n",
    "                                df.iloc[test_index, :].reset_index(drop=True)\n",
    "\n",
    "    # check random_split works correctly\n",
    "    assert (len(train_df)+len(val_df)+len(test_df)) == n\n",
    "    \n",
    "    return train_df, val_df, test_df"
   ]
  },
  {
   "cell_type": "code",
   "execution_count": 36,
   "metadata": {},
   "outputs": [],
   "source": [
    "train_df, val_df, test_df = dataset_split(df)"
   ]
  },
  {
   "cell_type": "markdown",
   "metadata": {},
   "source": [
    "## 3-4. Build Vocabulary\n",
    "\n",
    "It's reasonable to build a vocabulary list from only the training set."
   ]
  },
  {
   "cell_type": "code",
   "execution_count": 37,
   "metadata": {},
   "outputs": [],
   "source": [
    "vocabulary = Vocabulary()\n",
    "\n",
    "for row in train_df[config.NODES]:\n",
    "    for word in row:\n",
    "        vocabulary.add_word(word)"
   ]
  },
  {
   "cell_type": "markdown",
   "metadata": {},
   "source": [
    "## 3-5. Imbalanced Dataset\n",
    "\n",
    "Note: I only make the training set balanced and leave the validation and test sets alone."
   ]
  },
  {
   "cell_type": "code",
   "execution_count": 38,
   "metadata": {},
   "outputs": [
    {
     "data": {
      "text/plain": [
       "<AxesSubplot:xlabel='y', ylabel='count'>"
      ]
     },
     "execution_count": 38,
     "metadata": {},
     "output_type": "execute_result"
    },
    {
     "data": {
      "image/png": "[encoded data removed]",
      "text/plain": [
       "<Figure size 432x288 with 1 Axes>"
      ]
     },
     "metadata": {
      "needs_background": "light"
     },
     "output_type": "display_data"
    }
   ],
   "source": [
    "# plot the imbalanced target variable\n",
    "sns.countplot(train_df[config.TARGET])"
   ]
  },
  {
   "cell_type": "code",
   "execution_count": 39,
   "metadata": {},
   "outputs": [],
   "source": [
    "# undersampling\n",
    "def undersampling(df, target=config.TARGET, set_seed=config.SEED):\n",
    "    np.random.seed(set_seed)\n",
    "    df = df.groupby(target)\n",
    "    df = df.apply(lambda x: x.sample(df.size().min())).sample(frac=1).reset_index(drop=True)\n",
    "    return df"
   ]
  },
  {
   "cell_type": "code",
   "execution_count": 40,
   "metadata": {},
   "outputs": [
    {
     "name": "stdout",
     "output_type": "stream",
     "text": [
      "Length of training set: 23638\n",
      "Length of test set: 23099\n"
     ]
    }
   ],
   "source": [
    "train_df = undersampling(train_df)\n",
    "print(\"Length of training set:\", train_df.shape[0])\n",
    "print(\"Length of test set:\", test_df.shape[0])"
   ]
  },
  {
   "cell_type": "markdown",
   "metadata": {},
   "source": [
    "## 4-1. Dataset"
   ]
  },
  {
   "cell_type": "code",
   "execution_count": 41,
   "metadata": {},
   "outputs": [],
   "source": [
    "''' Use this one if you don't want to output/save the graph data. '''\n",
    "class GraphDataset(Dataset):\n",
    "    def __init__(self, config, root, df, vocabulary, use_cuda, embedd_mode=\"random\", transform=None, pre_transform=None):\n",
    "        self.root = root\n",
    "        self.voc = vocabulary\n",
    "        self.df = df.copy()\n",
    "        self.use_cuda = use_cuda\n",
    "        \n",
    "        assert embedd_mode in [\"random\", \"bert\"] # I only provide a text transformed dataset for random and bert embeddings\n",
    "        if embedd_mode == \"random\":\n",
    "            df[config.NODES] = [self.words_to_indices(row) for row in df[config.NODES]] # transform text to index first to make the model faster\n",
    "#             embedding = nn.Embedding(self.voc.num_words, config.NUM_FEATURES) # use nn.Embedding to create random word embeddings\n",
    "#             pipe = Pipe([torch.tensor, embedding]) # build a pipeline for creating random embedding\n",
    "#             self.build_embeddings = pipe.call_pipeline\n",
    "        elif embedd_mode == \"bert\":\n",
    "            bertembedding = BertEmbedding()\n",
    "            pipe = Pipe([bertembedding.get_embeddings, torch.tensor])\n",
    "            self.build_embeddings = pipe.call_pipeline\n",
    "        self.embedd_mode = embedd_mode\n",
    "            \n",
    "        super(GraphDataset, self).__init__(root, transform, pre_transform)\n",
    "\n",
    "    @property\n",
    "    def raw_file_names(self):\n",
    "        return []\n",
    "\n",
    "    @property\n",
    "    def processed_file_names(self):\n",
    "        pass\n",
    "\n",
    "    def len(self):\n",
    "        return self.df.shape[0]\n",
    "\n",
    "    def get(self, idx):\n",
    "        return self.build_data(idx)\n",
    "    \n",
    "    def build_data(self, idx):\n",
    "        tt = torch.cuda if self.use_cuda else torch\n",
    "        if self.embedd_mode == \"random\":\n",
    "            x = self.df[config.NODES][idx] # I will do pretrained in forward since the weights are learnable\n",
    "        elif self.embedd_mode == \"bert\":\n",
    "            x = self.build_embeddings(self.df[config.NODES][idx]).float().to(device) # build embedding matrix from \"texts\"\n",
    "        edge_index = tt.LongTensor(self.df[config.EDGE_INDEX][idx]) # \"config.EDGE_INDEX == edgeIndex\"\n",
    "        y = tt.FloatTensor([self.df[config.TARGET][idx]]) ## config.TARGET == \"y\" or \"overall\"\n",
    "        data = Data(x=x, edge_index=edge_index, y=y)\n",
    "        return data\n",
    "    \n",
    "    def words_to_indices(self, words):\n",
    "        '''\n",
    "        This function turns words to indices from Vocabulary list and returns a tensor of indices.\n",
    "        \n",
    "        @ param words: a list of words\n",
    "        '''\n",
    "        return [self.voc.get_index(w) for w in words]\n",
    "            "
   ]
  },
  {
   "cell_type": "code",
   "execution_count": 42,
   "metadata": {},
   "outputs": [],
   "source": [
    "def get_datasets(config, root, vocabulary, use_cuda, embedd_mode, train_df=train_df, val_df=val_df, test_df=test_df):\n",
    "    datasets = []\n",
    "    for data in [train_df, val_df, test_df]:\n",
    "        datasets.append(GraphDataset(config, root, data, vocabulary, use_cuda, embedd_mode))\n",
    "    return datasets"
   ]
  },
  {
   "cell_type": "code",
   "execution_count": 43,
   "metadata": {},
   "outputs": [],
   "source": [
    "# config.NUM_FEATURES = 128\n",
    "train_dataset, val_dataset, test_dataset = get_datasets(config,\n",
    "                                                        root=config.DATA_PATH, # \"/home/kll482/cathay/dataset\",\n",
    "                                                        vocabulary=vocabulary,\n",
    "                                                        use_cuda=config.USE_CUDA,\n",
    "                                                        embedd_mode=\"bert\",\n",
    "                                                        train_df=train_df,\n",
    "                                                        val_df=val_df,\n",
    "                                                        test_df=test_df,\n",
    "                                                       )"
   ]
  },
  {
   "cell_type": "code",
   "execution_count": 44,
   "metadata": {},
   "outputs": [],
   "source": [
    "# check if the row length remains the same even we transform dataframe into graph dataset\n",
    "assert len(train_dataset)+len(val_dataset)+len(test_dataset) == len(train_df)+len(val_df)+len(test_df)"
   ]
  },
  {
   "cell_type": "markdown",
   "metadata": {},
   "source": [
    "## 4-2. DataLoader"
   ]
  },
  {
   "cell_type": "code",
   "execution_count": null,
   "metadata": {
    "ExecuteTime": {
     "end_time": "2020-08-05T01:24:33.012811Z",
     "start_time": "2020-08-05T01:24:33.006012Z"
    }
   },
   "outputs": [],
   "source": [
    "# ''' Get dataloaders subsets from the whole dataset. '''\n",
    "# def get_dataloaders(config, dataset, train_percent=0.8, val_percent=0.1):\n",
    "\n",
    "#     # get length of subsets\n",
    "#     train_len = int(dataset.len()*0.8)\n",
    "#     val_len = int(dataset.len()*0.1)\n",
    "#     test_len = dataset.len()-train_len-val_len\n",
    "    \n",
    "#     # get sub_datasets by random_split\n",
    "#     seed_torch(config.SEED)\n",
    "#     train_dataset, val_dataset, test_dataset = random_split(dataset, (train_len, val_len, test_len))\n",
    "    \n",
    "#     # check random_split works correctly\n",
    "#     assert (len(train_dataset)+len(val_dataset)+len(test_dataset)) == dataset.len()\n",
    "    \n",
    "#     # get dataloaders\n",
    "#     train_loader = DataLoader(train_dataset, batch_size=config.batch_size, shuffle=True)\n",
    "#     val_loader = DataLoader(val_dataset, batch_size=1, shuffle=True)\n",
    "#     test_loader = DataLoader(train_dataset, batch_size=1, shuffle=True)\n",
    "    \n",
    "#     return train_loader, val_loader, test_loader\n",
    "\n",
    "# train_loader, val_loader, test_loader = get_dataloaders(config, dataset, train_percent=0.8, val_percent=0.1)"
   ]
  },
  {
   "cell_type": "code",
   "execution_count": 45,
   "metadata": {},
   "outputs": [],
   "source": [
    "seed_torch(config.SEED)\n",
    "train_loader = DataLoader(train_dataset, batch_size=config.batch_size, shuffle=True)\n",
    "val_loader = DataLoader(val_dataset, batch_size=1024, shuffle=False)\n",
    "test_loader = DataLoader(test_dataset, batch_size=1024, shuffle=False)"
   ]
  },
  {
   "cell_type": "markdown",
   "metadata": {},
   "source": [
    "## 5. Architecture"
   ]
  },
  {
   "cell_type": "code",
   "execution_count": 46,
   "metadata": {
    "ExecuteTime": {
     "end_time": "2020-08-05T06:34:52.609743Z",
     "start_time": "2020-08-05T06:34:52.602670Z"
    }
   },
   "outputs": [],
   "source": [
    "# ref: https://colab.research.google.com/drive/1DIQm9rOx2mT1bZETEeVUThxcrP1RKqAn\n",
    "# GCN for binary classification\n",
    "class BinGCNConv(torch.nn.Module):\n",
    "    def __init__(self, embedding_size, n_classes=1, drop=0, task=\"graph\"):\n",
    "        super(BinGCNConv, self).__init__()\n",
    "        self.conv1 = GCNConv(embedding_size, 128, cached=False) # if you defined cache=True, the shape of batch must be same!\n",
    "        self.conv2 = GCNConv(128, 64, cached=False)\n",
    "        self.ln1 = nn.LayerNorm(128)\n",
    "        self.ln2 = nn.LayerNorm(64)\n",
    "        self.linear = nn.Linear(64, 64)\n",
    "        self.classify = nn.Linear(64, n_classes)\n",
    "        self.task = task\n",
    "        self.drop = drop\n",
    "        \n",
    "    def forward(self, data):\n",
    "        x, edge_index, batch = data.x, data.edge_index, data.batch\n",
    "        x = F.relu(self.conv1(x, edge_index))\n",
    "        x = F.dropout(x, p=self.drop, training=self.training)\n",
    "        x = self.ln1(x)\n",
    "        \n",
    "        x = F.relu(self.conv2(x, edge_index))\n",
    "        x = F.dropout(x, p=self.drop, training=self.training)\n",
    "        x = self.ln2(x)\n",
    "        \n",
    "        # to make a graph-level classification, I need a output size of (total # of graph in a batch) * n_classes\n",
    "        # therefore, I take the mean of nodes in one GRAPH to represent it output\n",
    "        if self.task == 'graph':\n",
    "            x = global_mean_pool(x, batch)\n",
    "        x = self.linear(x)\n",
    "        x = self.classify(x) # size: (total # of nodes in a batch) * n_classes\n",
    "        return x.squeeze(-1) # use nn.BCEWithLogitsLoss during training"
   ]
  },
  {
   "cell_type": "code",
   "execution_count": 47,
   "metadata": {},
   "outputs": [],
   "source": [
    "# ref: https://colab.research.google.com/drive/1DIQm9rOx2mT1bZETEeVUThxcrP1RKqAn\n",
    "# GATConv for binary classification\n",
    "class BinGATConv(torch.nn.Module):\n",
    "    def __init__(self, embedding_size, n_classes=1, drop=0, task=\"graph\"):\n",
    "        super(BinGATConv, self).__init__()\n",
    "        self.conv1 = GATConv(embedding_size, 128, heads=1, dropout=drop) # if you defined cache=True, the shape of batch must be same!\n",
    "        self.conv2 = GATConv(128, 64, heads=1, dropout=drop)\n",
    "        self.ln1 = nn.LayerNorm(128)\n",
    "        self.ln2 = nn.LayerNorm(64)\n",
    "        self.linear = nn.Linear(64, 64)\n",
    "        self.classify = nn.Linear(64, n_classes)\n",
    "        self.task = task\n",
    "        self.drop = drop\n",
    "        \n",
    "    def forward(self, data):\n",
    "        x, edge_index, batch = data.x, data.edge_index, data.batch\n",
    "        x = F.relu(self.conv1(x, edge_index))\n",
    "        x = F.dropout(x, p=self.drop, training=self.training)\n",
    "        x = self.ln1(x)\n",
    "        \n",
    "        x = F.relu(self.conv2(x, edge_index))\n",
    "        x = F.dropout(x, p=self.drop, training=self.training)\n",
    "        x = self.ln2(x)\n",
    "        \n",
    "        # to make a graph-level classification, I need a output size of (total # of graph in a batch) * n_classes\n",
    "        # therefore, I take the mean of nodes in one GRAPH to represent it output\n",
    "        if self.task == 'graph':\n",
    "            x = global_mean_pool(x, batch)\n",
    "        x = self.linear(x)\n",
    "        x = self.classify(x) # size: (total # of nodes in a batch) * n_classes\n",
    "        return x.squeeze(-1) # use nn.BCEWithLogitsLoss during training"
   ]
  },
  {
   "cell_type": "markdown",
   "metadata": {},
   "source": [
    "## 6. Train & Validation & Test Functions"
   ]
  },
  {
   "cell_type": "code",
   "execution_count": 48,
   "metadata": {
    "ExecuteTime": {
     "end_time": "2020-08-05T06:34:54.271139Z",
     "start_time": "2020-08-05T06:34:54.268293Z"
    }
   },
   "outputs": [],
   "source": [
    "def adjust_learning_rate(optimizer, lr_decay):\n",
    "    for param_group in optimizer.param_groups:\n",
    "        param_group['lr'] *= lr_decay"
   ]
  },
  {
   "cell_type": "code",
   "execution_count": 49,
   "metadata": {},
   "outputs": [],
   "source": [
    "def write_log(text, file_path, mode=\"a+\"):\n",
    "    print(text)\n",
    "    with open(file_path, mode) as file:\n",
    "        file.write(text+\"\\n\")"
   ]
  },
  {
   "cell_type": "code",
   "execution_count": 50,
   "metadata": {},
   "outputs": [],
   "source": [
    "def write_config(config):\n",
    "    texts = \"=== Settings ===\\n\"\n",
    "    var_config = vars(config)\n",
    "    for i in range(len(var_config)):\n",
    "        temp_text = \"{}: {}\\n\".format(list(var_config.keys())[i],\n",
    "                                      list(var_config.values())[i],\n",
    "                                     )\n",
    "        texts += temp_text\n",
    "    texts += \"============\\n\\n\"\n",
    "    return texts"
   ]
  },
  {
   "cell_type": "code",
   "execution_count": 51,
   "metadata": {
    "ExecuteTime": {
     "end_time": "2020-08-05T06:49:58.217809Z",
     "start_time": "2020-08-05T06:49:58.207574Z"
    }
   },
   "outputs": [],
   "source": [
    "def train(config, train_loader, val_loader, model, criterion, optimizer):\n",
    "    global iteration, n_total, train_loss, n_bad_loss\n",
    "    global init, best_val_loss, stop\n",
    "\n",
    "    logs = \"=> EPOCH {}\".format(epoch)\n",
    "    write_log(logs, config.log_file, \"a+\")\n",
    "    \n",
    "    for batch_index, batch in tqdm(enumerate(train_loader)):\n",
    "        iteration += 1 # total iteration within all batches\n",
    "        \n",
    "        batch = batch.to(device)\n",
    "        \n",
    "        if config.N_CLASSES == 1:\n",
    "            # binary\n",
    "            label = batch.y.float()\n",
    "        elif config.N_CLASSES > 1:\n",
    "            label = batch.y.long()\n",
    "        label = label.to(device).detach()\n",
    "        \n",
    "        # train the model\n",
    "        model.train()\n",
    "#         for param in model.parameters():\n",
    "#             print(param.requires_grad)\n",
    "        output = model(batch)\n",
    "        \n",
    "        # loss function\n",
    "        loss = criterion(output, label)\n",
    "        \n",
    "        # BP\n",
    "        optimizer.zero_grad()\n",
    "        loss.backward()\n",
    "        optimizer.step()\n",
    "        \n",
    "        # sum with the previous training loss for updating learning rate in the following\n",
    "        train_loss += batch.num_graphs * loss.item() # accumulated training loss; batch.num_graphs is the size of the batch\n",
    "        n_total += batch.num_graphs\n",
    "        \n",
    "#         # validation check \n",
    "        if iteration % config.log_every == 0:\n",
    "            train_loss /= n_total \n",
    "            val_loss = validate(config, val_loader, model, criterion)\n",
    "        \n",
    "            # save logs\n",
    "            logs = \"   % Time: {} | Iteration: {:5} | Batch: {:4}/{}\"\\\n",
    "                  \" | Train loss: {:.4f} | Val loss: {:.4f}\"\\\n",
    "                  .format(str(datetime.now()-init), iteration, batch_index+1,\n",
    "                          len(train_loader), train_loss, val_loss)\n",
    "            write_log(logs, config.log_file, \"a+\")\n",
    "\n",
    "            # test for val_loss improvement\n",
    "            n_total = train_loss = 0\n",
    "            if val_loss < best_val_loss: # update the best validation loss\n",
    "                best_val_loss = val_loss\n",
    "                n_bad_loss = 0\n",
    "                torch.save(model.state_dict(), config.best_model) # save the checkpoint\n",
    "            else:\n",
    "                n_bad_loss += 1\n",
    "            \n",
    "            # update the learning rate if val loss does not improve for n_bad_loss times\n",
    "            if n_bad_loss == config.n_bad_loss:\n",
    "                best_val_loss = val_loss\n",
    "                n_bad_loss = 0\n",
    "                adjust_learning_rate(optimizer, config.lr_decay)\n",
    "                new_lr = optimizer.param_groups[0]['lr']\n",
    "                \n",
    "                logs = \"=> Adjust learning rate to: {}\".format(new_lr)\n",
    "                write_log(logs, config.log_file, \"a+\")\n",
    "                \n",
    "                if new_lr < config.lr_min:\n",
    "                    stop = True\n",
    "                    break\n"
   ]
  },
  {
   "cell_type": "code",
   "execution_count": 52,
   "metadata": {
    "ExecuteTime": {
     "end_time": "2020-08-05T06:49:58.794219Z",
     "start_time": "2020-08-05T06:49:58.789194Z"
    }
   },
   "outputs": [],
   "source": [
    "def validate(config, val_loader, model, criterion):\n",
    "#     for param in model.parameters():\n",
    "#         param.requires_grad = False\n",
    "        \n",
    "    model.eval()\n",
    "    val_loss = 0\n",
    "    dataset_size = 0\n",
    "    for batch in tqdm(val_loader):\n",
    "        batch = batch.to(device)\n",
    "        \n",
    "        if config.N_CLASSES == 1:\n",
    "            # binary\n",
    "            label = batch.y.float()\n",
    "        elif config.N_CLASSES > 1:\n",
    "            label = batch.y.long()\n",
    "            \n",
    "        label = label.to(device)\n",
    "        dataset_size += batch.num_graphs\n",
    "        \n",
    "        # train the model\n",
    "        output = model(batch)\n",
    "        loss = criterion(output, label)\n",
    "        val_loss += loss.data * batch.num_graphs\n",
    "    return val_loss / dataset_size"
   ]
  },
  {
   "cell_type": "code",
   "execution_count": 53,
   "metadata": {
    "ExecuteTime": {
     "end_time": "2020-08-05T07:27:08.304060Z",
     "start_time": "2020-08-05T07:27:08.298175Z"
    }
   },
   "outputs": [],
   "source": [
    "def test(config, test_loader, model, threshold=0.5):\n",
    "    print(\"start testing...\")\n",
    "#     for param in model.parameters():\n",
    "#         param.requires_grad = False\n",
    "        \n",
    "    model.eval()\n",
    "    dataset_size = 0\n",
    "    label_list = []\n",
    "    prediction_list = []\n",
    "    predict_prob_list = []\n",
    "    \n",
    "    for batch in tqdm(test_loader):\n",
    "        batch = batch.to(device)\n",
    "        \n",
    "        if config.N_CLASSES > 1:\n",
    "            label = batch.y.long()\n",
    "            label = label.data.tolist()\n",
    "            label_list += label\n",
    "            output = model(batch)\n",
    "            _, prediction = torch.max(output, 1)\n",
    "            prediction = prediction.data.tolist()\n",
    "            prediction_list += prediction\n",
    "            \n",
    "        elif config.N_CLASSES == 1:\n",
    "            # binary\n",
    "            label = batch.y.float()            \n",
    "            label = label.data.tolist()\n",
    "            label_list += label\n",
    "            output = model(batch)\n",
    "            sigmoid = nn.Sigmoid() \n",
    "            output = sigmoid(output) # [-inf, inf] -> [0, 1]\n",
    "            prediction_list += [1 if o > threshold else 0 for o in output.data.tolist()]\n",
    "            predict_prob_list += output.data.tolist()\n",
    "        \n",
    "    confusion_matrix_df = pd.DataFrame(confusion_matrix(label_list, prediction_list))#.rename(columns=[\"1\",\"2\",\"3\",\"4\",\"5\"], index=[\"1\",\"2\",\"3\",\"4\",\"5\"])\n",
    "    # write the confusion matrix into the log\n",
    "    write_log(\"\\n{}\\n\\n{}\\n\".\\\n",
    "          format(\"=== Confusion Matrix ===\",\n",
    "                 confusion_matrix_df\n",
    "                 \n",
    "                ),\n",
    "          config.log_file,\n",
    "          \"a+\")\n",
    "    \n",
    "    sns.heatmap(confusion_matrix_df, annot=True)\n",
    "    \n",
    "    return label_list, prediction_list, predict_prob_list"
   ]
  },
  {
   "cell_type": "code",
   "execution_count": 54,
   "metadata": {},
   "outputs": [],
   "source": [
    "def model_load(config, model_test, name):\n",
    "    if name is None:\n",
    "        model_reloaded = config.best_model\n",
    "    else:\n",
    "        model_reloaded = os.path.join(config.result_path, \"checkpoint/{}.pth\".format(name))\n",
    "    model_train = torch.load(model_reloaded)\n",
    "#     model_test = BinGATConv(config.NUM_FEATURES, config.N_CLASSES).to(device)\n",
    "    model_test.load_state_dict(model_train)\n",
    "\n",
    "    return model_test"
   ]
  },
  {
   "cell_type": "markdown",
   "metadata": {},
   "source": [
    "## 7. Training"
   ]
  },
  {
   "cell_type": "code",
   "execution_count": 56,
   "metadata": {},
   "outputs": [
    {
     "name": "stdout",
     "output_type": "stream",
     "text": [
      "=== Settings ===\n",
      "batch_size: 64\n",
      "seed: 5\n",
      "epochs: 15\n",
      "cuda: True\n",
      "log_every: 500\n",
      "lr: 0.001\n",
      "lr_decay: 0.7\n",
      "lr_min: 1e-05\n",
      "n_bad_loss: 4\n",
      "result_path: result/graph/\n",
      "log_path: logs/graph/\n",
      "USE_CUDA: True\n",
      "SEED: 123\n",
      "MODELING_FEATURE_PATH: dataset/full_dataset/partial_features.json\n",
      "DATA_PATH: dataset/processed_dataset/\n",
      "NUM_FEATURES: 768\n",
      "N_CLASSES: 1\n",
      "TARGET: y\n",
      "EDGE_INDEX: edgeIndex1\n",
      "NODES: uniqueTokens\n",
      "dataset_used: straight_Musical_Instruments_5.json\n",
      "best_model: result/graph/checkpoint/straight_neighbor1_GCN_2020_08_25_02_42.pth\n",
      "log_file: logs/graph/straight_neighbor1_GCN_2020_08_25_02_42.txt\n",
      "============\n",
      "\n",
      "Start record at 2020-08-25 02:42:00.645617\n",
      "\n",
      "=> EPOCH 1\n"
     ]
    },
    {
     "name": "stderr",
     "output_type": "stream",
     "text": [
      "/scratch/kll482/anaconda3/envs/cathay/lib/python3.7/site-packages/ipykernel_launcher.py:8: TqdmDeprecationWarning: This function will be removed in tqdm==5.0.0\n",
      "Please use `tqdm.notebook.tqdm` instead of `tqdm.tqdm_notebook`\n",
      "  \n"
     ]
    },
    {
     "data": {
      "application/vnd.jupyter.widget-view+json": {
       "model_id": "a9531c9dfb924eb2b66d4c8dba6f05aa",
       "version_major": 2,
       "version_minor": 0
      },
      "text/plain": [
       "HBox(children=(FloatProgress(value=1.0, bar_style='info', max=1.0), HTML(value='')))"
      ]
     },
     "metadata": {},
     "output_type": "display_data"
    },
    {
     "name": "stdout",
     "output_type": "stream",
     "text": [
      "\n",
      "=> EPOCH 2\n"
     ]
    },
    {
     "data": {
      "application/vnd.jupyter.widget-view+json": {
       "model_id": "f501ae7c02ba4444afe5acaaa671e7ec",
       "version_major": 2,
       "version_minor": 0
      },
      "text/plain": [
       "HBox(children=(FloatProgress(value=1.0, bar_style='info', max=1.0), HTML(value='')))"
      ]
     },
     "metadata": {},
     "output_type": "display_data"
    },
    {
     "data": {
      "application/vnd.jupyter.widget-view+json": {
       "model_id": "4c3d9cd41d2949a1a6c5085d89fc30bb",
       "version_major": 2,
       "version_minor": 0
      },
      "text/plain": [
       "HBox(children=(FloatProgress(value=0.0, max=23.0), HTML(value='')))"
      ]
     },
     "metadata": {},
     "output_type": "display_data"
    },
    {
     "name": "stdout",
     "output_type": "stream",
     "text": [
      "\n",
      "   % Time: 0:02:29.926895 | Iteration:   500 | Batch:  130/370 | Train loss: 0.5540 | Val loss: 0.6218\n",
      "\n",
      "=> EPOCH 3\n"
     ]
    },
    {
     "data": {
      "application/vnd.jupyter.widget-view+json": {
       "model_id": "827eff23141c4acaa2d8fc5c1b172618",
       "version_major": 2,
       "version_minor": 0
      },
      "text/plain": [
       "HBox(children=(FloatProgress(value=1.0, bar_style='info', max=1.0), HTML(value='')))"
      ]
     },
     "metadata": {},
     "output_type": "display_data"
    },
    {
     "data": {
      "application/vnd.jupyter.widget-view+json": {
       "model_id": "020cf92d305f42a9b41482e27d3db837",
       "version_major": 2,
       "version_minor": 0
      },
      "text/plain": [
       "HBox(children=(FloatProgress(value=0.0, max=23.0), HTML(value='')))"
      ]
     },
     "metadata": {},
     "output_type": "display_data"
    },
    {
     "name": "stdout",
     "output_type": "stream",
     "text": [
      "\n",
      "   % Time: 0:04:56.959662 | Iteration:  1000 | Batch:  260/370 | Train loss: 0.4125 | Val loss: 0.7130\n",
      "\n",
      "=> EPOCH 4\n"
     ]
    },
    {
     "data": {
      "application/vnd.jupyter.widget-view+json": {
       "model_id": "e26a54ab07744523a24227ea82490f99",
       "version_major": 2,
       "version_minor": 0
      },
      "text/plain": [
       "HBox(children=(FloatProgress(value=1.0, bar_style='info', max=1.0), HTML(value='')))"
      ]
     },
     "metadata": {},
     "output_type": "display_data"
    },
    {
     "name": "stdout",
     "output_type": "stream",
     "text": [
      "\n",
      "=> EPOCH 5\n"
     ]
    },
    {
     "data": {
      "application/vnd.jupyter.widget-view+json": {
       "model_id": "4dc3f565615e4df9a0834d6bf055058f",
       "version_major": 2,
       "version_minor": 0
      },
      "text/plain": [
       "HBox(children=(FloatProgress(value=1.0, bar_style='info', max=1.0), HTML(value='')))"
      ]
     },
     "metadata": {},
     "output_type": "display_data"
    },
    {
     "data": {
      "application/vnd.jupyter.widget-view+json": {
       "model_id": "d4ba1a4b08f345ca957d904ab72662a9",
       "version_major": 2,
       "version_minor": 0
      },
      "text/plain": [
       "HBox(children=(FloatProgress(value=0.0, max=23.0), HTML(value='')))"
      ]
     },
     "metadata": {},
     "output_type": "display_data"
    },
    {
     "name": "stdout",
     "output_type": "stream",
     "text": [
      "\n",
      "   % Time: 0:07:24.743910 | Iteration:  1500 | Batch:   20/370 | Train loss: 0.3802 | Val loss: 0.2824\n",
      "\n",
      "=> EPOCH 6\n"
     ]
    },
    {
     "data": {
      "application/vnd.jupyter.widget-view+json": {
       "model_id": "6fa56c90b07c49759cfcc51cc8b3fab1",
       "version_major": 2,
       "version_minor": 0
      },
      "text/plain": [
       "HBox(children=(FloatProgress(value=1.0, bar_style='info', max=1.0), HTML(value='')))"
      ]
     },
     "metadata": {},
     "output_type": "display_data"
    },
    {
     "data": {
      "application/vnd.jupyter.widget-view+json": {
       "model_id": "f4fd2163df154ab2a4381670e0c3188b",
       "version_major": 2,
       "version_minor": 0
      },
      "text/plain": [
       "HBox(children=(FloatProgress(value=0.0, max=23.0), HTML(value='')))"
      ]
     },
     "metadata": {},
     "output_type": "display_data"
    },
    {
     "name": "stdout",
     "output_type": "stream",
     "text": [
      "\n",
      "   % Time: 0:09:52.288749 | Iteration:  2000 | Batch:  150/370 | Train loss: 0.3658 | Val loss: 0.4448\n",
      "\n",
      "=> EPOCH 7\n"
     ]
    },
    {
     "data": {
      "application/vnd.jupyter.widget-view+json": {
       "model_id": "658e75f011b84576981bf7e3f76ccf89",
       "version_major": 2,
       "version_minor": 0
      },
      "text/plain": [
       "HBox(children=(FloatProgress(value=1.0, bar_style='info', max=1.0), HTML(value='')))"
      ]
     },
     "metadata": {},
     "output_type": "display_data"
    },
    {
     "data": {
      "application/vnd.jupyter.widget-view+json": {
       "model_id": "b58704df52eb4369bde8a7d44c3cd28a",
       "version_major": 2,
       "version_minor": 0
      },
      "text/plain": [
       "HBox(children=(FloatProgress(value=0.0, max=23.0), HTML(value='')))"
      ]
     },
     "metadata": {},
     "output_type": "display_data"
    },
    {
     "name": "stdout",
     "output_type": "stream",
     "text": [
      "\n",
      "   % Time: 0:12:19.198365 | Iteration:  2500 | Batch:  280/370 | Train loss: 0.3564 | Val loss: 0.3154\n",
      "\n",
      "=> EPOCH 8\n"
     ]
    },
    {
     "data": {
      "application/vnd.jupyter.widget-view+json": {
       "model_id": "3980f9a41bb04c68b1327f9559044fa3",
       "version_major": 2,
       "version_minor": 0
      },
      "text/plain": [
       "HBox(children=(FloatProgress(value=1.0, bar_style='info', max=1.0), HTML(value='')))"
      ]
     },
     "metadata": {},
     "output_type": "display_data"
    },
    {
     "name": "stdout",
     "output_type": "stream",
     "text": [
      "\n",
      "=> EPOCH 9\n"
     ]
    },
    {
     "data": {
      "application/vnd.jupyter.widget-view+json": {
       "model_id": "09125d6de86f49ba9e80d50fac2dbb56",
       "version_major": 2,
       "version_minor": 0
      },
      "text/plain": [
       "HBox(children=(FloatProgress(value=1.0, bar_style='info', max=1.0), HTML(value='')))"
      ]
     },
     "metadata": {},
     "output_type": "display_data"
    },
    {
     "data": {
      "application/vnd.jupyter.widget-view+json": {
       "model_id": "81c5869e11bf4cca99fda1e8012243fc",
       "version_major": 2,
       "version_minor": 0
      },
      "text/plain": [
       "HBox(children=(FloatProgress(value=0.0, max=23.0), HTML(value='')))"
      ]
     },
     "metadata": {},
     "output_type": "display_data"
    },
    {
     "name": "stdout",
     "output_type": "stream",
     "text": [
      "\n",
      "   % Time: 0:14:46.847018 | Iteration:  3000 | Batch:   40/370 | Train loss: 0.3379 | Val loss: 0.5747\n",
      "\n",
      "=> EPOCH 10\n"
     ]
    },
    {
     "data": {
      "application/vnd.jupyter.widget-view+json": {
       "model_id": "4c13449b6cdb413cb96219054ea30660",
       "version_major": 2,
       "version_minor": 0
      },
      "text/plain": [
       "HBox(children=(FloatProgress(value=1.0, bar_style='info', max=1.0), HTML(value='')))"
      ]
     },
     "metadata": {},
     "output_type": "display_data"
    },
    {
     "data": {
      "application/vnd.jupyter.widget-view+json": {
       "model_id": "443c9af0b45948e1a6bd0339830d276c",
       "version_major": 2,
       "version_minor": 0
      },
      "text/plain": [
       "HBox(children=(FloatProgress(value=0.0, max=23.0), HTML(value='')))"
      ]
     },
     "metadata": {},
     "output_type": "display_data"
    },
    {
     "name": "stdout",
     "output_type": "stream",
     "text": [
      "\n",
      "   % Time: 0:17:14.102603 | Iteration:  3500 | Batch:  170/370 | Train loss: 0.3314 | Val loss: 0.2300\n",
      "\n",
      "=> EPOCH 11\n"
     ]
    },
    {
     "data": {
      "application/vnd.jupyter.widget-view+json": {
       "model_id": "f17d3055d32e47e2a2f9c530a7cf7539",
       "version_major": 2,
       "version_minor": 0
      },
      "text/plain": [
       "HBox(children=(FloatProgress(value=1.0, bar_style='info', max=1.0), HTML(value='')))"
      ]
     },
     "metadata": {},
     "output_type": "display_data"
    },
    {
     "data": {
      "application/vnd.jupyter.widget-view+json": {
       "model_id": "a7f886915a4e445196f6d55904e9d8ff",
       "version_major": 2,
       "version_minor": 0
      },
      "text/plain": [
       "HBox(children=(FloatProgress(value=0.0, max=23.0), HTML(value='')))"
      ]
     },
     "metadata": {},
     "output_type": "display_data"
    },
    {
     "name": "stdout",
     "output_type": "stream",
     "text": [
      "\n",
      "   % Time: 0:19:42.219650 | Iteration:  4000 | Batch:  300/370 | Train loss: 0.3165 | Val loss: 0.4844\n",
      "\n",
      "=> EPOCH 12\n"
     ]
    },
    {
     "data": {
      "application/vnd.jupyter.widget-view+json": {
       "model_id": "48fae2615080458f8cea4232bbdb02b2",
       "version_major": 2,
       "version_minor": 0
      },
      "text/plain": [
       "HBox(children=(FloatProgress(value=1.0, bar_style='info', max=1.0), HTML(value='')))"
      ]
     },
     "metadata": {},
     "output_type": "display_data"
    },
    {
     "name": "stdout",
     "output_type": "stream",
     "text": [
      "\n",
      "=> EPOCH 13\n"
     ]
    },
    {
     "data": {
      "application/vnd.jupyter.widget-view+json": {
       "model_id": "96ae1b617806467b9b2f1d73e3c200b1",
       "version_major": 2,
       "version_minor": 0
      },
      "text/plain": [
       "HBox(children=(FloatProgress(value=1.0, bar_style='info', max=1.0), HTML(value='')))"
      ]
     },
     "metadata": {},
     "output_type": "display_data"
    },
    {
     "data": {
      "application/vnd.jupyter.widget-view+json": {
       "model_id": "1f39d5f1eb774b9c9b6277576da61cfe",
       "version_major": 2,
       "version_minor": 0
      },
      "text/plain": [
       "HBox(children=(FloatProgress(value=0.0, max=23.0), HTML(value='')))"
      ]
     },
     "metadata": {},
     "output_type": "display_data"
    },
    {
     "name": "stdout",
     "output_type": "stream",
     "text": [
      "\n",
      "   % Time: 0:22:10.035520 | Iteration:  4500 | Batch:   60/370 | Train loss: 0.3047 | Val loss: 0.3334\n",
      "\n",
      "=> EPOCH 14\n"
     ]
    },
    {
     "data": {
      "application/vnd.jupyter.widget-view+json": {
       "model_id": "194b214b27d249999f5cf927a7896ebb",
       "version_major": 2,
       "version_minor": 0
      },
      "text/plain": [
       "HBox(children=(FloatProgress(value=1.0, bar_style='info', max=1.0), HTML(value='')))"
      ]
     },
     "metadata": {},
     "output_type": "display_data"
    },
    {
     "data": {
      "application/vnd.jupyter.widget-view+json": {
       "model_id": "1e3bee794adf4b9a9df5db0a77ab7e59",
       "version_major": 2,
       "version_minor": 0
      },
      "text/plain": [
       "HBox(children=(FloatProgress(value=0.0, max=23.0), HTML(value='')))"
      ]
     },
     "metadata": {},
     "output_type": "display_data"
    },
    {
     "name": "stdout",
     "output_type": "stream",
     "text": [
      "\n",
      "   % Time: 0:24:38.464302 | Iteration:  5000 | Batch:  190/370 | Train loss: 0.2878 | Val loss: 0.5435\n",
      "\n",
      "=> EPOCH 15\n"
     ]
    },
    {
     "data": {
      "application/vnd.jupyter.widget-view+json": {
       "model_id": "69fd68cda67b4ea983ca6e3601c02c26",
       "version_major": 2,
       "version_minor": 0
      },
      "text/plain": [
       "HBox(children=(FloatProgress(value=1.0, bar_style='info', max=1.0), HTML(value='')))"
      ]
     },
     "metadata": {},
     "output_type": "display_data"
    },
    {
     "data": {
      "application/vnd.jupyter.widget-view+json": {
       "model_id": "12feca9f8fd24f87981f4b47080ea124",
       "version_major": 2,
       "version_minor": 0
      },
      "text/plain": [
       "HBox(children=(FloatProgress(value=0.0, max=23.0), HTML(value='')))"
      ]
     },
     "metadata": {},
     "output_type": "display_data"
    },
    {
     "name": "stdout",
     "output_type": "stream",
     "text": [
      "\n",
      "   % Time: 0:27:05.960422 | Iteration:  5500 | Batch:  320/370 | Train loss: 0.2763 | Val loss: 0.3205\n",
      "=> Adjust learning rate to: 0.034999999999999996\n",
      "\n"
     ]
    }
   ],
   "source": [
    "for neighbor in [1]:\n",
    "    ''' initials '''\n",
    "    # seed_torch(config.SEED)\n",
    "    seed_torch(config.SEED)\n",
    "    config.N_CLASSES = 1\n",
    "    config.EDGE_INDEX = \"edgeIndex{}\".format(str(neighbor))\n",
    "    model_name = \"GCN\"\n",
    "\n",
    "    ''' rebuild dataset and dataloader due to edge_index '''\n",
    "    train_dataset, val_dataset, test_dataset = get_datasets(config,\n",
    "                                                        root=config.DATA_PATH, # \"/home/kll482/cathay/dataset\",\n",
    "                                                        vocabulary=vocabulary,\n",
    "                                                        use_cuda=config.USE_CUDA,\n",
    "                                                        embedd_mode=\"bert\",\n",
    "                                                        train_df=train_df,\n",
    "                                                        val_df=val_df,\n",
    "                                                        test_df=test_df,\n",
    "                                                       )\n",
    "    \n",
    "    train_loader = DataLoader(train_dataset, batch_size=config.batch_size, shuffle=True)\n",
    "    val_loader = DataLoader(val_dataset, batch_size=1024, shuffle=False)\n",
    "    test_loader = DataLoader(test_dataset, batch_size=1024, shuffle=False)\n",
    "    \n",
    "    ''' initializing the model '''\n",
    "    model = BinGCNConv(config.NUM_FEATURES, config.N_CLASSES, drop=0).to(device)\n",
    "    criterion = nn.BCEWithLogitsLoss().to(device)\n",
    "\n",
    "    # MultiClass\n",
    "    # model = MultiClassNet(config.NUM_FEATURES, config.N_CLASSES).to(device)\n",
    "    # criterion = nn.NLLLoss().to(device)\n",
    "\n",
    "    optimizer = optim.Adagrad(model.parameters(), lr=config.lr)\n",
    "\n",
    "    config.best_model = os.path.join(config.result_path, \"checkpoint/straight_neighbor{}_{}_{}.pth\".format(neighbor,\n",
    "                                                                                                 model_name,\n",
    "                                                                                                 datetime.now().strftime(\"%Y_%m_%d_%H_%M\")\n",
    "                                                                                                )\n",
    "                                    )\n",
    "    config.log_file = os.path.join(config.log_path, \"straight_neighbor{}_{}_{}.txt\".format(neighbor,\n",
    "                                                                                  model_name,\n",
    "                                                                                  datetime.now().strftime(\"%Y_%m_%d_%H_%M\")\n",
    "                                                                                   )\n",
    "                                  )\n",
    "    ''' start training '''\n",
    "    saved = True\n",
    "    if 1 == 1:  # change to True to train\n",
    "        iteration = n_total = train_loss = n_bad_loss = 0\n",
    "        stop = False\n",
    "        best_val_loss = float(\"inf\")\n",
    "        init = datetime.now()\n",
    "        config.epochs = 15\n",
    "        config.log_every = 500\n",
    "        config.lr = 0.001\n",
    "    #     config.n_bad_loss 4\n",
    "\n",
    "        if saved:\n",
    "            output_text = write_config(config) + \"Start record at {}\\n\".format(str(datetime.now()))\n",
    "            write_log(output_text,\n",
    "                      config.log_file,\n",
    "                      \"w+\")\n",
    "\n",
    "        for epoch in range(1, config.epochs+1):\n",
    "            train(config, train_loader, val_loader, model, criterion, optimizer)\n",
    "            if stop:\n",
    "                break"
   ]
  },
  {
   "cell_type": "markdown",
   "metadata": {
    "ExecuteTime": {
     "end_time": "2020-08-05T07:27:10.966688Z",
     "start_time": "2020-08-05T07:27:10.964582Z"
    }
   },
   "source": [
    "## 8. Testing"
   ]
  },
  {
   "cell_type": "code",
   "execution_count": 59,
   "metadata": {},
   "outputs": [],
   "source": [
    "result_name = config.best_model.split(\"/\")[-1][:-4]\n",
    "# result_name = \"neighbor10_GCN_2020_08_23_20_56\"\n",
    "config.best_model = os.path.join(config.result_path, \"checkpoint/{}.pth\".format(result_name))\n",
    "config.log_file = os.path.join(config.log_path, \"{}.txt\".format(result_name))\n",
    "config.EDGE_INDEX = \"edgeIndex{}\".format(1)"
   ]
  },
  {
   "cell_type": "code",
   "execution_count": 60,
   "metadata": {},
   "outputs": [
    {
     "name": "stdout",
     "output_type": "stream",
     "text": [
      "start testing...\n"
     ]
    },
    {
     "name": "stderr",
     "output_type": "stream",
     "text": [
      "/scratch/kll482/anaconda3/envs/cathay/lib/python3.7/site-packages/ipykernel_launcher.py:12: TqdmDeprecationWarning: This function will be removed in tqdm==5.0.0\n",
      "Please use `tqdm.notebook.tqdm` instead of `tqdm.tqdm_notebook`\n",
      "  if sys.path[0] == '':\n"
     ]
    },
    {
     "data": {
      "application/vnd.jupyter.widget-view+json": {
       "model_id": "1b77402e1db04125b05b046dd97d3838",
       "version_major": 2,
       "version_minor": 0
      },
      "text/plain": [
       "HBox(children=(FloatProgress(value=0.0, max=23.0), HTML(value='')))"
      ]
     },
     "metadata": {},
     "output_type": "display_data"
    },
    {
     "name": "stdout",
     "output_type": "stream",
     "text": [
      "\n",
      "\n",
      "=== Confusion Matrix ===\n",
      "\n",
      "      0      1\n",
      "0   972    479\n",
      "1  1557  20091\n",
      "\n"
     ]
    },
    {
     "data": {
      "image/png": "[encoded data removed]",
      "text/plain": [
       "<Figure size 432x288 with 2 Axes>"
      ]
     },
     "metadata": {
      "needs_background": "light"
     },
     "output_type": "display_data"
    }
   ],
   "source": [
    "model_test = model_load(config, \n",
    "                        BinGCNConv(config.NUM_FEATURES, config.N_CLASSES).to(device),\n",
    "                        name=result_name,\n",
    "                       )\n",
    "y_true, y_pred, y_prob = test(config, test_loader, model_test)"
   ]
  },
  {
   "cell_type": "code",
   "execution_count": 61,
   "metadata": {},
   "outputs": [
    {
     "name": "stdout",
     "output_type": "stream",
     "text": [
      "\n",
      "=== Classification Report ===\n",
      "\n",
      "              precision    recall  f1-score   support\n",
      "\n",
      "         0.0       0.38      0.67      0.49      1451\n",
      "         1.0       0.98      0.93      0.95     21648\n",
      "\n",
      "    accuracy                           0.91     23099\n",
      "   macro avg       0.68      0.80      0.72     23099\n",
      "weighted avg       0.94      0.91      0.92     23099\n",
      "\n",
      "\n"
     ]
    }
   ],
   "source": [
    "report = classification_report(y_true, y_pred)\n",
    "\n",
    "# write the report\n",
    "write_log(\"\\n{}\\n\\n{}\\n\".\\\n",
    "          format(\"=== Classification Report ===\",\n",
    "                 report\n",
    "                 \n",
    "                ),\n",
    "          config.log_file,\n",
    "          \"a+\")\n",
    "\n",
    "# print\n",
    "# print(report)"
   ]
  },
  {
   "cell_type": "markdown",
   "metadata": {},
   "source": [
    "### 8-2. Saving Testing Result"
   ]
  },
  {
   "cell_type": "code",
   "execution_count": 62,
   "metadata": {},
   "outputs": [],
   "source": [
    "config.PREDICTED_RESULT = os.path.join(\"result/graph/prediction\", \"{}.pkl\".format(result_name))"
   ]
  },
  {
   "cell_type": "code",
   "execution_count": 63,
   "metadata": {},
   "outputs": [],
   "source": [
    "# saving predicted result\n",
    "with open(config.PREDICTED_RESULT, 'wb') as f:\n",
    "    pickle.dump([y_true, y_pred, y_prob], f)"
   ]
  },
  {
   "cell_type": "code",
   "execution_count": 64,
   "metadata": {},
   "outputs": [],
   "source": [
    "with open(config.PREDICTED_RESULT, 'rb') as f:\n",
    "    y_true, y_pred, y_prob = pickle.load(f)"
   ]
  },
  {
   "cell_type": "markdown",
   "metadata": {},
   "source": [
    "## 9. Learning Curve"
   ]
  },
  {
   "cell_type": "markdown",
   "metadata": {},
   "source": [
    "read the log file for the train loss and the val loss."
   ]
  },
  {
   "cell_type": "code",
   "execution_count": 65,
   "metadata": {},
   "outputs": [],
   "source": [
    "config.log_file = os.path.join(config.log_path, \"{}.txt\".format(result_name))\n",
    "with open(config.log_file, \"r+\") as file:\n",
    "    logs = file.readlines()\n",
    "    val_loss = []\n",
    "    train_loss = []\n",
    "    for row in logs:\n",
    "        if len(row.split(\"|\")) < 2:\n",
    "            continue\n",
    "        else:\n",
    "            train_loss.append(float(row.split(\"|\")[-2].strip().split(\" \")[-1]))\n",
    "            val_loss.append(float(row.split(\"|\")[-1].strip().split(\" \")[-1]))\n",
    "    assert len(train_loss) == len(val_loss)"
   ]
  },
  {
   "cell_type": "markdown",
   "metadata": {},
   "source": [
    "draw the learning curve below."
   ]
  },
  {
   "cell_type": "code",
   "execution_count": 66,
   "metadata": {},
   "outputs": [
    {
     "data": {
      "image/png": "[encoded data removed]",
      "text/plain": [
       "<Figure size 432x288 with 1 Axes>"
      ]
     },
     "metadata": {
      "needs_background": "light"
     },
     "output_type": "display_data"
    }
   ],
   "source": [
    "fig, ax = plt.subplots()\n",
    "ax.plot(range(len(train_loss)), train_loss, '-b', label='train')\n",
    "ax.plot(range(len(val_loss)), val_loss, '--r', label='validation')\n",
    "leg = ax.legend();"
   ]
  },
  {
   "cell_type": "markdown",
   "metadata": {},
   "source": [
    "## 10. Length Difference"
   ]
  },
  {
   "cell_type": "code",
   "execution_count": null,
   "metadata": {},
   "outputs": [],
   "source": [
    "# seed_torch(config.SEED)\n",
    "test_loader = DataLoader(test_dataset, batch_size=1024, shuffle=False)\n",
    "test_word_length = []\n",
    "for batch in tqdm(test_loader):\n",
    "#     nodes_count = sorted(Counter(batch.batch.data.numpy()).items(), key=lambda x: x[0])\n",
    "    x = batch.batch.data.numpy()\n",
    "    unique, counts = np.unique(x, return_counts=True)\n",
    "    test_word_length += list(counts)"
   ]
  },
  {
   "cell_type": "markdown",
   "metadata": {},
   "source": [
    "### 10-2. Saving/Reloading Length Information"
   ]
  },
  {
   "cell_type": "code",
   "execution_count": null,
   "metadata": {},
   "outputs": [],
   "source": [
    "assert len(y_prob) == len(test_word_length)\n",
    "with open(os.path.join(\"dataset/token_length/\", \"testloader_seed_{}.pkl\".format(config.SEED)), 'wb') as f:\n",
    "    pickle.dump(test_word_length, f)"
   ]
  },
  {
   "cell_type": "code",
   "execution_count": null,
   "metadata": {},
   "outputs": [],
   "source": [
    "with open(os.path.join(\"dataset/token_length/\", \"testloader_seed_{}.pkl\".format(config.SEED)), 'rb') as f:\n",
    "    test_word_length_reloaded = pickle.load(f)"
   ]
  },
  {
   "cell_type": "markdown",
   "metadata": {},
   "source": [
    "### 10-3. Plot: Length vs. Correctness"
   ]
  },
  {
   "cell_type": "code",
   "execution_count": null,
   "metadata": {},
   "outputs": [],
   "source": [
    "compared_result = [y_pred[i] == y_true[i] for i in range(len(y_true))]\n",
    "correct_word_length = [test_word_length_reloaded[idx] for idx, value in enumerate(compared_result) if value == True] # the word length list of the sample which is predicted correctly\n",
    "wrong_word_length = [test_word_length_reloaded[idx] for idx, value in enumerate(compared_result) if value == False]\n",
    "sns.distplot(correct_word_length, hist=True)\n",
    "sns.distplot(wrong_word_length, hist=True)"
   ]
  },
  {
   "cell_type": "markdown",
   "metadata": {},
   "source": [
    "## 11. Score in 5 Group vs. Accuracy\n",
    "\n",
    "I am interested in the prediction of the review with an original overall score from 1 to 5."
   ]
  },
  {
   "cell_type": "code",
   "execution_count": null,
   "metadata": {},
   "outputs": [],
   "source": [
    "def score_5_acc(score=3, labels=test_df[\"overall\"], compared_result=compared_result):\n",
    "    labels = list(labels)\n",
    "    selected_comared_result = [res for idx, res in enumerate(compared_result) if labels[idx] == score]\n",
    "    return round(sum(selected_comared_result) / len(selected_comared_result)*100, 2)\n",
    "\n",
    "for i in range(1, 6):\n",
    "    print(\"Overall Scoree {}: {}%\".format(i, score_5_acc(score=i,\n",
    "                                                         labels=test_df[\"overall\"],\n",
    "                                                         compared_result=compared_result)))"
   ]
  },
  {
   "cell_type": "code",
   "execution_count": null,
   "metadata": {},
   "outputs": [],
   "source": []
  }
 ],
 "metadata": {
  "kernelspec": {
   "display_name": "Python 3",
   "language": "python",
   "name": "python3"
  },
  "language_info": {
   "codemirror_mode": {
    "name": "ipython",
    "version": 3
   },
   "file_extension": ".py",
   "mimetype": "text/x-python",
   "name": "python",
   "nbconvert_exporter": "python",
   "pygments_lexer": "ipython3",
   "version": "3.7.7"
  },
  "latex_envs": {
   "LaTeX_envs_menu_present": true,
   "autoclose": false,
   "autocomplete": true,
   "bibliofile": "biblio.bib",
   "cite_by": "apalike",
   "current_citInitial": 1,
   "eqLabelWithNumbers": true,
   "eqNumInitial": 1,
   "hotkeys": {
    "equation": "Ctrl-E",
    "itemize": "Ctrl-I"
   },
   "labels_anchors": false,
   "latex_user_defs": false,
   "report_style_numbering": false,
   "user_envs_cfg": false
  },
  "varInspector": {
   "cols": {
    "lenName": 16,
    "lenType": 16,
    "lenVar": 40
   },
   "kernels_config": {
    "python": {
     "delete_cmd_postfix": "",
     "delete_cmd_prefix": "del ",
     "library": "var_list.py",
     "varRefreshCmd": "print(var_dic_list())"
    },
    "r": {
     "delete_cmd_postfix": ") ",
     "delete_cmd_prefix": "rm(",
     "library": "var_list.r",
     "varRefreshCmd": "cat(var_dic_list()) "
    }
   },
   "types_to_exclude": [
    "module",
    "function",
    "builtin_function_or_method",
    "instance",
    "_Feature"
   ],
   "window_display": false
  }
 },
 "nbformat": 4,
 "nbformat_minor": 4
}
