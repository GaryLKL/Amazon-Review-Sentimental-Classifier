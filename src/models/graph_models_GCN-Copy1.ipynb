{
 "cells": [
  {
   "cell_type": "markdown",
   "metadata": {},
   "source": [
    "## 1. Packages"
   ]
  },
  {
   "cell_type": "code",
   "execution_count": 1,
   "metadata": {
    "ExecuteTime": {
     "end_time": "2020-08-05T07:13:23.407418Z",
     "start_time": "2020-08-05T07:13:23.398377Z"
    }
   },
   "outputs": [
    {
     "name": "stdout",
     "output_type": "stream",
     "text": [
      "Current Working Directory: /scratch/kll482/cathay\n",
      "Config Sections: ['text_cleaning', 'feature_engineering', 'graph_models']\n"
     ]
    }
   ],
   "source": [
    "''' root '''\n",
    "import os\n",
    "os.chdir(\"/scratch/kll482/cathay\")\n",
    "print(\"Current Working Directory:\", os.getcwd())\n",
    "\n",
    "import sys\n",
    "sys.path.append(\"/scratch/kll482/cathay/\")\n",
    "\n",
    "''' config '''\n",
    "from configparser import ConfigParser\n",
    "config = ConfigParser()\n",
    "config.read(\"config/config.ini\")\n",
    "print(\"Config Sections:\", config.sections())\n",
    "args = config[\"graph_models\"]"
   ]
  },
  {
   "cell_type": "code",
   "execution_count": 2,
   "metadata": {
    "ExecuteTime": {
     "end_time": "2020-08-05T07:15:33.614186Z",
     "start_time": "2020-08-05T07:15:33.609071Z"
    }
   },
   "outputs": [],
   "source": [
    "''' packages '''\n",
    "# 1. models\n",
    "import torch, torchvision\n",
    "import torch\n",
    "import torch.nn.functional as F\n",
    "from torch import nn\n",
    "import torch.optim as optim\n",
    "from torch_geometric.data import Data, DataLoader\n",
    "from torch_geometric.data import InMemoryDataset, Dataset, download_url\n",
    "from torch.utils.data import random_split\n",
    "import torch_geometric.transforms as T\n",
    "from torch_geometric.nn import GCNConv, GATConv, global_mean_pool\n",
    "from sklearn.utils import shuffle\n",
    "from sklearn.metrics import confusion_matrix, classification_report\n",
    "from sklearn.model_selection import train_test_split\n",
    "\n",
    "# 2. others\n",
    "from tqdm import tqdm_notebook as tqdm\n",
    "import multiprocessing as mp\n",
    "import argparse\n",
    "import pandas as pd, numpy as np\n",
    "import time\n",
    "import pickle\n",
    "from datetime import datetime\n",
    "import matplotlib.pyplot as plt\n",
    "import seaborn as sns\n",
    "from textblob import TextBlob\n",
    "# from tensorboardX import SummaryWriter\n",
    "# writer = SummaryWriter(\"logs/graph/\")\n",
    "\n",
    "# 3. custom\n",
    "from src.preprocessing.feature_engineering.bert_embedding import BertEmbedding\n",
    "from src.utils.vocabulary import Vocabulary\n",
    "from src.utils.pipeline import Pipe"
   ]
  },
  {
   "cell_type": "markdown",
   "metadata": {},
   "source": [
    "## 2.1. Initial Variables & Parameters"
   ]
  },
  {
   "cell_type": "code",
   "execution_count": 3,
   "metadata": {
    "ExecuteTime": {
     "end_time": "2020-08-05T07:13:28.592867Z",
     "start_time": "2020-08-05T07:13:28.589113Z"
    }
   },
   "outputs": [],
   "source": [
    "''' Hyperparameters '''\n",
    "parser = {\n",
    "    \"batch_size\": 64,\n",
    "    \"seed\": 5, # random seed\n",
    "    \"epochs\": 10,\n",
    "    \"cuda\": True, # use cuda or not\n",
    "    \"log_every\": 50,\n",
    "    \"lr\": 0.05,  # initial learning rate\n",
    "    \"lr_decay\": 0.7,  # decay lr when not observing improvement in val_loss\n",
    "    \"lr_min\": 1e-5,  # stop when lr is too low\n",
    "    \"n_bad_loss\": 4,  # number of bad val_loss before decaying\n",
    "    \"result_path\": \"result/graph/\",  # path to save models\n",
    "    \"log_path\": \"logs/graph/\",\n",
    "}\n",
    "config = argparse.Namespace(**parser)"
   ]
  },
  {
   "cell_type": "code",
   "execution_count": 4,
   "metadata": {},
   "outputs": [],
   "source": [
    "''' General '''\n",
    "config.USE_CUDA = bool(int(args[\"use_cuda\"]))\n",
    "config.SEED = int(args[\"set_seed\"])\n",
    "config.MODELING_FEATURE_PATH = args[\"partial_feature_path\"]\n",
    "config.DATA_PATH = args[\"data_path\"]\n",
    "config.NUM_FEATURES = 768\n",
    "config.N_CLASSES = 1\n",
    "config.TARGET = \"overall\"\n",
    "config.EDGE_INDEX = \"edgeIndex3\"\n",
    "config.NODES = \"uniqueTokens\""
   ]
  },
  {
   "cell_type": "markdown",
   "metadata": {},
   "source": [
    "## 2.2. CUDA Settings"
   ]
  },
  {
   "cell_type": "code",
   "execution_count": 5,
   "metadata": {
    "ExecuteTime": {
     "end_time": "2020-08-05T07:13:29.284510Z",
     "start_time": "2020-08-05T07:13:29.276557Z"
    }
   },
   "outputs": [
    {
     "name": "stdout",
     "output_type": "stream",
     "text": [
      "cuda on:  True\n"
     ]
    }
   ],
   "source": [
    "# os.environ[\"CUDA_VISIBLE_DEVICES\"] = \"1\"\n",
    "config.USE_CUDA = config.USE_CUDA and torch.cuda.is_available()\n",
    "print(\"cuda on: \", config.USE_CUDA)\n",
    "if config.USE_CUDA:\n",
    "    torch.cuda.manual_seed(config.SEED)\n",
    "    torch.backends.cudnn.deterministic = True\n",
    "else:\n",
    "    torch.manual_seed(config.SEED)\n",
    "    \n",
    "device = torch.device(\"cuda:0\" if config.USE_CUDA else \"cpu\")"
   ]
  },
  {
   "cell_type": "code",
   "execution_count": 6,
   "metadata": {
    "ExecuteTime": {
     "end_time": "2020-08-05T07:13:29.480321Z",
     "start_time": "2020-08-05T07:13:29.476385Z"
    }
   },
   "outputs": [],
   "source": [
    "def seed_torch(seed=config.SEED):\n",
    "    #random.seed(seed)\n",
    "    #os.environ['PYTHONHASHSEED'] = str(seed)\n",
    "    np.random.seed(seed)\n",
    "    torch.manual_seed(seed)\n",
    "    torch.cuda.manual_seed(seed)\n",
    "    torch.cuda.manual_seed_all(seed) # if you are using multi-GPU.\n",
    "    torch.backends.cudnn.benchmark = False\n",
    "    torch.backends.cudnn.deterministic = True"
   ]
  },
  {
   "cell_type": "markdown",
   "metadata": {},
   "source": [
    "## 3-1. Data"
   ]
  },
  {
   "cell_type": "code",
   "execution_count": 7,
   "metadata": {
    "ExecuteTime": {
     "end_time": "2020-08-05T07:14:27.559723Z",
     "start_time": "2020-08-05T07:13:30.485201Z"
    }
   },
   "outputs": [
    {
     "name": "stdout",
     "output_type": "stream",
     "text": [
      "read the datasets...\n"
     ]
    }
   ],
   "source": [
    "print(\"read the datasets...\")\n",
    "files = []\n",
    "# file_path = [file for file in os.listdir(config.DATA_PATH) if file.endswith(\".json\")]\n",
    "# file_path = ['short_Video_Games_5.json', 'short_Musical_Instruments_5.json']\n",
    "file_path = ['Video_Games_5.json', 'Musical_Instruments_5.json']\n",
    "for file in file_path:    \n",
    "    files.append(pd.read_json(os.path.join(config.DATA_PATH, file)))\n",
    "    \n",
    "df = pd.concat(files)"
   ]
  },
  {
   "cell_type": "code",
   "execution_count": 8,
   "metadata": {},
   "outputs": [
    {
     "data": {
      "text/plain": [
       "(727329, 7)"
      ]
     },
     "execution_count": 8,
     "metadata": {},
     "output_type": "execute_result"
    }
   ],
   "source": [
    "df.shape"
   ]
  },
  {
   "cell_type": "markdown",
   "metadata": {},
   "source": [
    "Let's take a look at the distribution of word count (by overall)."
   ]
  },
  {
   "cell_type": "code",
   "execution_count": 9,
   "metadata": {},
   "outputs": [
    {
     "data": {
      "image/png": "[encoded data removed]",
      "text/plain": [
       "<Figure size 432x288 with 1 Axes>"
      ]
     },
     "metadata": {
      "needs_background": "light"
     },
     "output_type": "display_data"
    }
   ],
   "source": [
    "for i in range(1, 6):\n",
    "    subdf = df[df[\"overall\"] == i]\n",
    "    sub_word_len = [len(row) for row in subdf[\"reviewTokens\"]]\n",
    "    sns.distplot(sub_word_len, hist=False)\n",
    "    plt.xlabel(\"word count\")\n",
    "    "
   ]
  },
  {
   "cell_type": "code",
   "execution_count": 10,
   "metadata": {},
   "outputs": [
    {
     "data": {
      "text/plain": [
       "<AxesSubplot:>"
      ]
     },
     "execution_count": 10,
     "metadata": {},
     "output_type": "execute_result"
    },
    {
     "data": {
      "image/png": "[encoded data removed]",
      "text/plain": [
       "<Figure size 432x288 with 1 Axes>"
      ]
     },
     "metadata": {
      "needs_background": "light"
     },
     "output_type": "display_data"
    }
   ],
   "source": [
    "word_len = [len(row) for row in df[\"uniqueTokens\"]]\n",
    "sns.distplot(word_len, hist=False)"
   ]
  },
  {
   "cell_type": "markdown",
   "metadata": {},
   "source": [
    "Let's take a look at the number of sample in each target (overall)."
   ]
  },
  {
   "cell_type": "code",
   "execution_count": 11,
   "metadata": {},
   "outputs": [
    {
     "data": {
      "text/plain": [
       "<AxesSubplot:xlabel='overall', ylabel='count'>"
      ]
     },
     "execution_count": 11,
     "metadata": {},
     "output_type": "execute_result"
    },
    {
     "data": {
      "image/png": "[encoded data removed]",
      "text/plain": [
       "<Figure size 432x288 with 1 Axes>"
      ]
     },
     "metadata": {
      "needs_background": "light"
     },
     "output_type": "display_data"
    }
   ],
   "source": [
    "sns.countplot(x = 'overall', data=df)"
   ]
  },
  {
   "cell_type": "markdown",
   "metadata": {},
   "source": [
    "## 3-2. Review Score to Positive/Negative"
   ]
  },
  {
   "cell_type": "code",
   "execution_count": 12,
   "metadata": {},
   "outputs": [],
   "source": [
    "def reclassify(df, target=\"overall\"):\n",
    "    '''\n",
    "    1. score 3 & 4 & 5 -> 1 (positive)\n",
    "    2. score 1 & 2 -> 0 (negative)\n",
    "    '''\n",
    "    y = []\n",
    "    for gp in df[target]:\n",
    "        if gp in [3, 4, 5]:\n",
    "            y.append(1)\n",
    "        elif gp in [1, 2]:\n",
    "            y.append(0)\n",
    "    assert len(y) == df.shape[0]\n",
    "    \n",
    "    return y"
   ]
  },
  {
   "cell_type": "code",
   "execution_count": 13,
   "metadata": {},
   "outputs": [],
   "source": [
    "df[\"y\"] = reclassify(df, \"overall\")\n",
    "config.TARGET = \"y\" # this will be used to set up model pipeline so that I won't have to change the target name quite often."
   ]
  },
  {
   "cell_type": "code",
   "execution_count": 14,
   "metadata": {},
   "outputs": [],
   "source": [
    "# check if there is no strange value among the target variable\n",
    "assert sum(df[config.TARGET].isna()) == 0"
   ]
  },
  {
   "cell_type": "markdown",
   "metadata": {},
   "source": [
    "## 3-3. Train Test Split"
   ]
  },
  {
   "cell_type": "code",
   "execution_count": 15,
   "metadata": {},
   "outputs": [],
   "source": [
    "def dataset_split(df, train_percent=0.8, val_percent=0.1, set_seed=config.SEED):\n",
    "    n = df.shape[0] # get length of dataframe\n",
    "\n",
    "    # I will set the percentage of validation and test sets to be both 0.1\n",
    "    train_index, rest_index = train_test_split(range(n), train_size=0.8, random_state=config.SEED)\n",
    "    val_index, test_index = train_test_split(rest_index, train_size=(val_percent/(1-train_percent)), random_state=config.SEED) # 0.1/(1-0.8) = 0.1/0.2 = 0.5\n",
    "\n",
    "    # check if there is any intersection among all three sets\n",
    "    assert len(set(train_index + val_index + test_index)) == n\n",
    "\n",
    "    # get sub_datasets by random_split\n",
    "    np.random.seed(config.SEED)\n",
    "    train_df, val_df, test_df = df.iloc[train_index, :].reset_index(drop=True),\\\n",
    "                                df.iloc[val_index, :].reset_index(drop=True),\\\n",
    "                                df.iloc[test_index, :].reset_index(drop=True)\n",
    "\n",
    "    # check random_split works correctly\n",
    "    assert (len(train_df)+len(val_df)+len(test_df)) == n\n",
    "    \n",
    "    return train_df, val_df, test_df"
   ]
  },
  {
   "cell_type": "code",
   "execution_count": 16,
   "metadata": {},
   "outputs": [],
   "source": [
    "train_df, val_df, test_df = dataset_split(df)"
   ]
  },
  {
   "cell_type": "markdown",
   "metadata": {},
   "source": [
    "## 3-4. Build Vocabulary\n",
    "\n",
    "It's reasonable to build a vocabulary list from only the training set."
   ]
  },
  {
   "cell_type": "code",
   "execution_count": 17,
   "metadata": {},
   "outputs": [],
   "source": [
    "vocabulary = Vocabulary()\n",
    "\n",
    "for row in train_df[config.NODES]:\n",
    "    for word in row:\n",
    "        vocabulary.add_word(word)"
   ]
  },
  {
   "cell_type": "markdown",
   "metadata": {},
   "source": [
    "## 3-5. Imbalanced Dataset\n",
    "\n",
    "Note: I only make the training set balanced and leave the validation and test sets alone."
   ]
  },
  {
   "cell_type": "code",
   "execution_count": 18,
   "metadata": {},
   "outputs": [
    {
     "data": {
      "text/plain": [
       "<AxesSubplot:xlabel='y', ylabel='count'>"
      ]
     },
     "execution_count": 18,
     "metadata": {},
     "output_type": "execute_result"
    },
    {
     "data": {
      "image/png": "[encoded data removed]",
      "text/plain": [
       "<Figure size 432x288 with 1 Axes>"
      ]
     },
     "metadata": {
      "needs_background": "light"
     },
     "output_type": "display_data"
    }
   ],
   "source": [
    "# plot the imbalanced target variable\n",
    "sns.countplot(train_df[config.TARGET])"
   ]
  },
  {
   "cell_type": "code",
   "execution_count": 19,
   "metadata": {},
   "outputs": [],
   "source": [
    "# undersampling\n",
    "def undersampling(df, target=config.TARGET, set_seed=config.SEED):\n",
    "    np.random.seed(set_seed)\n",
    "    df = df.groupby(target)\n",
    "    df = df.apply(lambda x: x.sample(df.size().min())).sample(frac=1).reset_index(drop=True)\n",
    "    return df"
   ]
  },
  {
   "cell_type": "code",
   "execution_count": 20,
   "metadata": {},
   "outputs": [
    {
     "name": "stdout",
     "output_type": "stream",
     "text": [
      "Length of training set: 111520\n",
      "Length of test set: 72733\n"
     ]
    }
   ],
   "source": [
    "train_df = undersampling(train_df)\n",
    "print(\"Length of training set:\", train_df.shape[0])\n",
    "print(\"Length of test set:\", test_df.shape[0])"
   ]
  },
  {
   "cell_type": "markdown",
   "metadata": {},
   "source": [
    "## 4-1. Dataset"
   ]
  },
  {
   "cell_type": "code",
   "execution_count": 21,
   "metadata": {},
   "outputs": [],
   "source": [
    "''' Use this one if you don't want to output/save the graph data. '''\n",
    "class GraphDataset(Dataset):\n",
    "    def __init__(self, config, root, df, vocabulary, use_cuda, embedd_mode=\"random\", transform=None, pre_transform=None):\n",
    "        self.root = root\n",
    "        self.voc = vocabulary\n",
    "        self.df = df.copy()\n",
    "        self.use_cuda = use_cuda\n",
    "        \n",
    "        assert embedd_mode in [\"random\", \"bert\"] # I only provide a text transformed dataset for random and bert embeddings\n",
    "        if embedd_mode == \"random\":\n",
    "            df[config.NODES] = [self.words_to_indices(row) for row in df[config.NODES]] # transform text to index first to make the model faster\n",
    "#             embedding = nn.Embedding(self.voc.num_words, config.NUM_FEATURES) # use nn.Embedding to create random word embeddings\n",
    "#             pipe = Pipe([torch.tensor, embedding]) # build a pipeline for creating random embedding\n",
    "#             self.build_embeddings = pipe.call_pipeline\n",
    "        elif embedd_mode == \"bert\":\n",
    "            bertembedding = BertEmbedding()\n",
    "            pipe = Pipe([bertembedding.get_embeddings, torch.tensor])\n",
    "            self.build_embeddings = pipe.call_pipeline\n",
    "        self.embedd_mode = embedd_mode\n",
    "            \n",
    "        super(GraphDataset, self).__init__(root, transform, pre_transform)\n",
    "\n",
    "    @property\n",
    "    def raw_file_names(self):\n",
    "        return []\n",
    "\n",
    "    @property\n",
    "    def processed_file_names(self):\n",
    "        pass\n",
    "\n",
    "    def len(self):\n",
    "        return self.df.shape[0]\n",
    "\n",
    "    def get(self, idx):\n",
    "        return self.build_data(idx)\n",
    "    \n",
    "    def build_data(self, idx):\n",
    "        tt = torch.cuda if self.use_cuda else torch\n",
    "        if self.embedd_mode == \"random\":\n",
    "            x = self.df[config.NODES][idx] # I will do pretrained in forward since the weights are learnable\n",
    "        elif self.embedd_mode == \"bert\":\n",
    "            x = self.build_embeddings(self.df[config.NODES][idx]).float().to(device) # build embedding matrix from \"texts\"\n",
    "        edge_index = tt.LongTensor(self.df[config.EDGE_INDEX][idx]) # \"config.EDGE_INDEX == edgeIndex\"\n",
    "        y = tt.FloatTensor([self.df[config.TARGET][idx]]) ## config.TARGET == \"y\" or \"overall\"\n",
    "        data = Data(x=x, edge_index=edge_index, y=y)\n",
    "        return data\n",
    "    \n",
    "    def words_to_indices(self, words):\n",
    "        '''\n",
    "        This function turns words to indices from Vocabulary list and returns a tensor of indices.\n",
    "        \n",
    "        @ param words: a list of words\n",
    "        '''\n",
    "        return [self.voc.get_index(w) for w in words]\n",
    "            "
   ]
  },
  {
   "cell_type": "code",
   "execution_count": 22,
   "metadata": {},
   "outputs": [],
   "source": [
    "def get_datasets(config, root, vocabulary, use_cuda, embedd_mode, train_df=train_df, val_df=val_df, test_df=test_df):\n",
    "    datasets = []\n",
    "    for data in [train_df, val_df, test_df]:\n",
    "        datasets.append(GraphDataset(config, root, data, vocabulary, use_cuda, embedd_mode))\n",
    "    return datasets"
   ]
  },
  {
   "cell_type": "code",
   "execution_count": 23,
   "metadata": {},
   "outputs": [],
   "source": [
    "# config.NUM_FEATURES = 128\n",
    "train_dataset, val_dataset, test_dataset = get_datasets(config,\n",
    "                                                        root=config.DATA_PATH, # \"/home/kll482/cathay/dataset\",\n",
    "                                                        vocabulary=vocabulary,\n",
    "                                                        use_cuda=config.USE_CUDA,\n",
    "                                                        embedd_mode=\"bert\",\n",
    "                                                        train_df=train_df,\n",
    "                                                        val_df=val_df,\n",
    "                                                        test_df=test_df,\n",
    "                                                       )"
   ]
  },
  {
   "cell_type": "code",
   "execution_count": 24,
   "metadata": {},
   "outputs": [],
   "source": [
    "# check if the row length remains the same even we transform dataframe into graph dataset\n",
    "assert len(train_dataset)+len(val_dataset)+len(test_dataset) == len(train_df)+len(val_df)+len(test_df)"
   ]
  },
  {
   "cell_type": "markdown",
   "metadata": {},
   "source": [
    "## 4-2. DataLoader"
   ]
  },
  {
   "cell_type": "code",
   "execution_count": 25,
   "metadata": {
    "ExecuteTime": {
     "end_time": "2020-08-05T01:24:33.012811Z",
     "start_time": "2020-08-05T01:24:33.006012Z"
    }
   },
   "outputs": [],
   "source": [
    "# ''' Get dataloaders subsets from the whole dataset. '''\n",
    "# def get_dataloaders(config, dataset, train_percent=0.8, val_percent=0.1):\n",
    "\n",
    "#     # get length of subsets\n",
    "#     train_len = int(dataset.len()*0.8)\n",
    "#     val_len = int(dataset.len()*0.1)\n",
    "#     test_len = dataset.len()-train_len-val_len\n",
    "    \n",
    "#     # get sub_datasets by random_split\n",
    "#     seed_torch(config.SEED)\n",
    "#     train_dataset, val_dataset, test_dataset = random_split(dataset, (train_len, val_len, test_len))\n",
    "    \n",
    "#     # check random_split works correctly\n",
    "#     assert (len(train_dataset)+len(val_dataset)+len(test_dataset)) == dataset.len()\n",
    "    \n",
    "#     # get dataloaders\n",
    "#     train_loader = DataLoader(train_dataset, batch_size=config.batch_size, shuffle=True)\n",
    "#     val_loader = DataLoader(val_dataset, batch_size=1, shuffle=True)\n",
    "#     test_loader = DataLoader(train_dataset, batch_size=1, shuffle=True)\n",
    "    \n",
    "#     return train_loader, val_loader, test_loader\n",
    "\n",
    "# train_loader, val_loader, test_loader = get_dataloaders(config, dataset, train_percent=0.8, val_percent=0.1)"
   ]
  },
  {
   "cell_type": "code",
   "execution_count": 26,
   "metadata": {},
   "outputs": [],
   "source": [
    "seed_torch(config.SEED)\n",
    "train_loader = DataLoader(train_dataset, batch_size=config.batch_size, shuffle=True)\n",
    "val_loader = DataLoader(val_dataset, batch_size=1024, shuffle=False)\n",
    "test_loader = DataLoader(test_dataset, batch_size=1024, shuffle=False)"
   ]
  },
  {
   "cell_type": "markdown",
   "metadata": {},
   "source": [
    "## 5. Architecture"
   ]
  },
  {
   "cell_type": "code",
   "execution_count": 27,
   "metadata": {
    "ExecuteTime": {
     "end_time": "2020-08-05T06:34:52.609743Z",
     "start_time": "2020-08-05T06:34:52.602670Z"
    }
   },
   "outputs": [],
   "source": [
    "# ref: https://colab.research.google.com/drive/1DIQm9rOx2mT1bZETEeVUThxcrP1RKqAn\n",
    "# GCN for binary classification\n",
    "class BinGCNConv(torch.nn.Module):\n",
    "    def __init__(self, embedding_size, n_classes=1, drop=0, task=\"graph\"):\n",
    "        super(BinGCNConv, self).__init__()\n",
    "        self.conv1 = GCNConv(embedding_size, 128, cached=False) # if you defined cache=True, the shape of batch must be same!\n",
    "        self.conv2 = GCNConv(128, 64, cached=False)\n",
    "        self.ln1 = nn.LayerNorm(128)\n",
    "        self.ln2 = nn.LayerNorm(64)\n",
    "        self.linear = nn.Linear(64, 64)\n",
    "        self.classify = nn.Linear(64, n_classes)\n",
    "        self.task = task\n",
    "        self.drop = drop\n",
    "        \n",
    "    def forward(self, data):\n",
    "        x, edge_index, batch = data.x, data.edge_index, data.batch\n",
    "        x = F.relu(self.conv1(x, edge_index))\n",
    "        x = F.dropout(x, p=self.drop, training=self.training)\n",
    "        x = self.ln1(x)\n",
    "        \n",
    "        x = F.relu(self.conv2(x, edge_index))\n",
    "        x = F.dropout(x, p=self.drop, training=self.training)\n",
    "        x = self.ln2(x)\n",
    "        \n",
    "        # to make a graph-level classification, I need a output size of (total # of graph in a batch) * n_classes\n",
    "        # therefore, I take the mean of nodes in one GRAPH to represent it output\n",
    "        if self.task == 'graph':\n",
    "            x = global_mean_pool(x, batch)\n",
    "        x = self.linear(x)\n",
    "        x = self.classify(x) # size: (total # of nodes in a batch) * n_classes\n",
    "        return x.squeeze(-1) # use nn.BCEWithLogitsLoss during training"
   ]
  },
  {
   "cell_type": "code",
   "execution_count": 28,
   "metadata": {},
   "outputs": [],
   "source": [
    "# ref: https://colab.research.google.com/drive/1DIQm9rOx2mT1bZETEeVUThxcrP1RKqAn\n",
    "# GATConv for binary classification\n",
    "class BinGATConv(torch.nn.Module):\n",
    "    def __init__(self, embedding_size, n_classes=1, drop=0, task=\"graph\"):\n",
    "        super(BinGATConv, self).__init__()\n",
    "        self.conv1 = GATConv(embedding_size, 128, heads=1, dropout=drop) # if you defined cache=True, the shape of batch must be same!\n",
    "        self.conv2 = GATConv(128, 64, heads=1, dropout=drop)\n",
    "        self.ln1 = nn.LayerNorm(128)\n",
    "        self.ln2 = nn.LayerNorm(64)\n",
    "        self.linear = nn.Linear(64, 64)\n",
    "        self.classify = nn.Linear(64, n_classes)\n",
    "        self.task = task\n",
    "        self.drop = drop\n",
    "        \n",
    "    def forward(self, data):\n",
    "        x, edge_index, batch = data.x, data.edge_index, data.batch\n",
    "        x = F.relu(self.conv1(x, edge_index))\n",
    "        x = F.dropout(x, p=self.drop, training=self.training)\n",
    "        x = self.ln1(x)\n",
    "        \n",
    "        x = F.relu(self.conv2(x, edge_index))\n",
    "        x = F.dropout(x, p=self.drop, training=self.training)\n",
    "        x = self.ln2(x)\n",
    "        \n",
    "        # to make a graph-level classification, I need a output size of (total # of graph in a batch) * n_classes\n",
    "        # therefore, I take the mean of nodes in one GRAPH to represent it output\n",
    "        if self.task == 'graph':\n",
    "            x = global_mean_pool(x, batch)\n",
    "        x = self.linear(x)\n",
    "        x = self.classify(x) # size: (total # of nodes in a batch) * n_classes\n",
    "        return x.squeeze(-1) # use nn.BCEWithLogitsLoss during training"
   ]
  },
  {
   "cell_type": "markdown",
   "metadata": {},
   "source": [
    "## 6. Train & Validation & Test Functions"
   ]
  },
  {
   "cell_type": "code",
   "execution_count": 29,
   "metadata": {
    "ExecuteTime": {
     "end_time": "2020-08-05T06:34:54.271139Z",
     "start_time": "2020-08-05T06:34:54.268293Z"
    }
   },
   "outputs": [],
   "source": [
    "def adjust_learning_rate(optimizer, lr_decay):\n",
    "    for param_group in optimizer.param_groups:\n",
    "        param_group['lr'] *= lr_decay"
   ]
  },
  {
   "cell_type": "code",
   "execution_count": 30,
   "metadata": {},
   "outputs": [],
   "source": [
    "def write_log(text, file_path, mode=\"a+\"):\n",
    "    print(text)\n",
    "    with open(file_path, mode) as file:\n",
    "        file.write(text+\"\\n\")"
   ]
  },
  {
   "cell_type": "code",
   "execution_count": 31,
   "metadata": {},
   "outputs": [],
   "source": [
    "def write_config(config):\n",
    "    texts = \"=== Settings ===\\n\"\n",
    "    var_config = vars(config)\n",
    "    for i in range(len(var_config)):\n",
    "        temp_text = \"{}: {}\\n\".format(list(var_config.keys())[i],\n",
    "                                      list(var_config.values())[i],\n",
    "                                     )\n",
    "        texts += temp_text\n",
    "    texts += \"============\\n\\n\"\n",
    "    return texts"
   ]
  },
  {
   "cell_type": "code",
   "execution_count": 32,
   "metadata": {
    "ExecuteTime": {
     "end_time": "2020-08-05T06:49:58.217809Z",
     "start_time": "2020-08-05T06:49:58.207574Z"
    }
   },
   "outputs": [],
   "source": [
    "def train(config, train_loader, val_loader, model, criterion, optimizer):\n",
    "    global iteration, n_total, train_loss, n_bad_loss\n",
    "    global init, best_val_loss, stop\n",
    "\n",
    "    logs = \"=> EPOCH {}\".format(epoch)\n",
    "    write_log(logs, config.log_file, \"a+\")\n",
    "    \n",
    "    for batch_index, batch in tqdm(enumerate(train_loader)):\n",
    "        iteration += 1 # total iteration within all batches\n",
    "        \n",
    "        batch = batch.to(device)\n",
    "        \n",
    "        if config.N_CLASSES == 1:\n",
    "            # binary\n",
    "            label = batch.y.float()\n",
    "        elif config.N_CLASSES > 1:\n",
    "            label = batch.y.long()\n",
    "        label = label.to(device).detach()\n",
    "        \n",
    "        # train the model\n",
    "        model.train()\n",
    "#         for param in model.parameters():\n",
    "#             print(param.requires_grad)\n",
    "        output = model(batch)\n",
    "        \n",
    "        # loss function\n",
    "        loss = criterion(output, label)\n",
    "        \n",
    "        # BP\n",
    "        optimizer.zero_grad()\n",
    "        loss.backward()\n",
    "        optimizer.step()\n",
    "        \n",
    "        # sum with the previous training loss for updating learning rate in the following\n",
    "        train_loss += batch.num_graphs * loss.item() # accumulated training loss; batch.num_graphs is the size of the batch\n",
    "        n_total += batch.num_graphs\n",
    "        \n",
    "#         # validation check \n",
    "        if iteration % config.log_every == 0:\n",
    "            train_loss /= n_total \n",
    "            val_loss = validate(config, val_loader, model, criterion)\n",
    "        \n",
    "            # save logs\n",
    "            logs = \"   % Time: {} | Iteration: {:5} | Batch: {:4}/{}\"\\\n",
    "                  \" | Train loss: {:.4f} | Val loss: {:.4f}\"\\\n",
    "                  .format(str(datetime.now()-init), iteration, batch_index+1,\n",
    "                          len(train_loader), train_loss, val_loss)\n",
    "            write_log(logs, config.log_file, \"a+\")\n",
    "\n",
    "            # test for val_loss improvement\n",
    "            n_total = train_loss = 0\n",
    "            if val_loss < best_val_loss: # update the best validation loss\n",
    "                best_val_loss = val_loss\n",
    "                n_bad_loss = 0\n",
    "                torch.save(model.state_dict(), config.best_model) # save the checkpoint\n",
    "            else:\n",
    "                n_bad_loss += 1\n",
    "            \n",
    "            # update the learning rate if val loss does not improve for n_bad_loss times\n",
    "            if n_bad_loss == config.n_bad_loss:\n",
    "                best_val_loss = val_loss\n",
    "                n_bad_loss = 0\n",
    "                adjust_learning_rate(optimizer, config.lr_decay)\n",
    "                new_lr = optimizer.param_groups[0]['lr']\n",
    "                \n",
    "                logs = \"=> Adjust learning rate to: {}\".format(new_lr)\n",
    "                write_log(logs, config.log_file, \"a+\")\n",
    "                \n",
    "                if new_lr < config.lr_min:\n",
    "                    stop = True\n",
    "                    break\n"
   ]
  },
  {
   "cell_type": "code",
   "execution_count": 33,
   "metadata": {
    "ExecuteTime": {
     "end_time": "2020-08-05T06:49:58.794219Z",
     "start_time": "2020-08-05T06:49:58.789194Z"
    }
   },
   "outputs": [],
   "source": [
    "def validate(config, val_loader, model, criterion):\n",
    "#     for param in model.parameters():\n",
    "#         param.requires_grad = False\n",
    "        \n",
    "    model.eval()\n",
    "    val_loss = 0\n",
    "    dataset_size = 0\n",
    "    for batch in tqdm(val_loader):\n",
    "        batch = batch.to(device)\n",
    "        \n",
    "        if config.N_CLASSES == 1:\n",
    "            # binary\n",
    "            label = batch.y.float()\n",
    "        elif config.N_CLASSES > 1:\n",
    "            label = batch.y.long()\n",
    "            \n",
    "        label = label.to(device)\n",
    "        dataset_size += batch.num_graphs\n",
    "        \n",
    "        # train the model\n",
    "        output = model(batch)\n",
    "        loss = criterion(output, label)\n",
    "        val_loss += loss.data * batch.num_graphs\n",
    "    return val_loss / dataset_size"
   ]
  },
  {
   "cell_type": "code",
   "execution_count": 34,
   "metadata": {
    "ExecuteTime": {
     "end_time": "2020-08-05T07:27:08.304060Z",
     "start_time": "2020-08-05T07:27:08.298175Z"
    }
   },
   "outputs": [],
   "source": [
    "def test(config, test_loader, model, threshold=0.5):\n",
    "    print(\"start testing...\")\n",
    "#     for param in model.parameters():\n",
    "#         param.requires_grad = False\n",
    "        \n",
    "    model.eval()\n",
    "    dataset_size = 0\n",
    "    label_list = []\n",
    "    prediction_list = []\n",
    "    predict_prob_list = []\n",
    "    \n",
    "    for batch in tqdm(test_loader):\n",
    "        batch = batch.to(device)\n",
    "        \n",
    "        if config.N_CLASSES > 1:\n",
    "            label = batch.y.long()\n",
    "            label = label.data.tolist()\n",
    "            label_list += label\n",
    "            output = model(batch)\n",
    "            _, prediction = torch.max(output, 1)\n",
    "            prediction = prediction.data.tolist()\n",
    "            prediction_list += prediction\n",
    "            \n",
    "        elif config.N_CLASSES == 1:\n",
    "            # binary\n",
    "            label = batch.y.float()            \n",
    "            label = label.data.tolist()\n",
    "            label_list += label\n",
    "            output = model(batch)\n",
    "            sigmoid = nn.Sigmoid() \n",
    "            output = sigmoid(output) # [-inf, inf] -> [0, 1]\n",
    "            prediction_list += [1 if o > threshold else 0 for o in output.data.tolist()]\n",
    "            predict_prob_list += output.data.tolist()\n",
    "        \n",
    "    confusion_matrix_df = pd.DataFrame(confusion_matrix(label_list, prediction_list))#.rename(columns=[\"1\",\"2\",\"3\",\"4\",\"5\"], index=[\"1\",\"2\",\"3\",\"4\",\"5\"])\n",
    "    # write the confusion matrix into the log\n",
    "    write_log(\"\\n{}\\n\\n{}\\n\".\\\n",
    "          format(\"=== Confusion Matrix ===\",\n",
    "                 confusion_matrix_df\n",
    "                 \n",
    "                ),\n",
    "          config.log_file,\n",
    "          \"a+\")\n",
    "    \n",
    "    sns.heatmap(confusion_matrix_df, annot=True)\n",
    "    \n",
    "    return label_list, prediction_list, predict_prob_list"
   ]
  },
  {
   "cell_type": "code",
   "execution_count": 35,
   "metadata": {},
   "outputs": [],
   "source": [
    "def model_load(config, model_test, name):\n",
    "    if name is None:\n",
    "        model_reloaded = config.best_model\n",
    "    else:\n",
    "        model_reloaded = os.path.join(config.result_path, \"checkpoint/{}.pth\".format(name))\n",
    "    model_train = torch.load(model_reloaded)\n",
    "#     model_test = BinGATConv(config.NUM_FEATURES, config.N_CLASSES).to(device)\n",
    "    model_test.load_state_dict(model_train)\n",
    "\n",
    "    return model_test"
   ]
  },
  {
   "cell_type": "markdown",
   "metadata": {},
   "source": [
    "## 7. Training"
   ]
  },
  {
   "cell_type": "code",
   "execution_count": 36,
   "metadata": {},
   "outputs": [
    {
     "name": "stdout",
     "output_type": "stream",
     "text": [
      "=== Settings ===\n",
      "batch_size: 64\n",
      "seed: 5\n",
      "epochs: 15\n",
      "cuda: True\n",
      "log_every: 500\n",
      "lr: 0.001\n",
      "lr_decay: 0.7\n",
      "lr_min: 1e-05\n",
      "n_bad_loss: 4\n",
      "result_path: result/graph/\n",
      "log_path: logs/graph/\n",
      "USE_CUDA: True\n",
      "SEED: 123\n",
      "MODELING_FEATURE_PATH: dataset/full_dataset/partial_features.json\n",
      "DATA_PATH: dataset/processed_dataset/\n",
      "NUM_FEATURES: 768\n",
      "N_CLASSES: 1\n",
      "TARGET: y\n",
      "EDGE_INDEX: edgeIndex3\n",
      "NODES: uniqueTokens\n",
      "best_model: result/graph/checkpoint/neighbor3_GCN_2020_08_25_14_02.pth\n",
      "log_file: logs/graph/neighbor3_GCN_2020_08_25_14_02.txt\n",
      "============\n",
      "\n",
      "Start record at 2020-08-25 14:02:29.832358\n",
      "\n",
      "=> EPOCH 1\n"
     ]
    },
    {
     "name": "stderr",
     "output_type": "stream",
     "text": [
      "/scratch/kll482/anaconda3/envs/cathay/lib/python3.7/site-packages/ipykernel_launcher.py:8: TqdmDeprecationWarning: This function will be removed in tqdm==5.0.0\n",
      "Please use `tqdm.notebook.tqdm` instead of `tqdm.tqdm_notebook`\n",
      "  \n"
     ]
    },
    {
     "data": {
      "application/vnd.jupyter.widget-view+json": {
       "model_id": "19798b582bc6461685355e6ea4ad1f43",
       "version_major": 2,
       "version_minor": 0
      },
      "text/plain": [
       "HBox(children=(FloatProgress(value=1.0, bar_style='info', max=1.0), HTML(value='')))"
      ]
     },
     "metadata": {},
     "output_type": "display_data"
    },
    {
     "data": {
      "application/vnd.jupyter.widget-view+json": {
       "model_id": "fe4b0a3357024ac09c042391b3adfff0",
       "version_major": 2,
       "version_minor": 0
      },
      "text/plain": [
       "HBox(children=(FloatProgress(value=0.0, max=72.0), HTML(value='')))"
      ]
     },
     "metadata": {},
     "output_type": "display_data"
    },
    {
     "name": "stdout",
     "output_type": "stream",
     "text": [
      "\n",
      "   % Time: 0:06:31.238040 | Iteration:   500 | Batch:  500/1743 | Train loss: 0.5677 | Val loss: 0.3609\n"
     ]
    },
    {
     "data": {
      "application/vnd.jupyter.widget-view+json": {
       "model_id": "1582690fb11c4b7dbc51fa00f000dec5",
       "version_major": 2,
       "version_minor": 0
      },
      "text/plain": [
       "HBox(children=(FloatProgress(value=0.0, max=72.0), HTML(value='')))"
      ]
     },
     "metadata": {},
     "output_type": "display_data"
    },
    {
     "name": "stdout",
     "output_type": "stream",
     "text": [
      "\n",
      "   % Time: 0:12:54.165228 | Iteration:  1000 | Batch: 1000/1743 | Train loss: 0.4475 | Val loss: 0.5736\n"
     ]
    },
    {
     "data": {
      "application/vnd.jupyter.widget-view+json": {
       "model_id": "816422b4d0844f58b32f772b953f5c15",
       "version_major": 2,
       "version_minor": 0
      },
      "text/plain": [
       "HBox(children=(FloatProgress(value=0.0, max=72.0), HTML(value='')))"
      ]
     },
     "metadata": {},
     "output_type": "display_data"
    },
    {
     "name": "stdout",
     "output_type": "stream",
     "text": [
      "\n",
      "   % Time: 0:19:19.703977 | Iteration:  1500 | Batch: 1500/1743 | Train loss: 0.4224 | Val loss: 0.4354\n",
      "\n",
      "=> EPOCH 2\n"
     ]
    },
    {
     "data": {
      "application/vnd.jupyter.widget-view+json": {
       "model_id": "546f376b252545a39bfdf0c1ff11c623",
       "version_major": 2,
       "version_minor": 0
      },
      "text/plain": [
       "HBox(children=(FloatProgress(value=1.0, bar_style='info', max=1.0), HTML(value='')))"
      ]
     },
     "metadata": {},
     "output_type": "display_data"
    },
    {
     "data": {
      "application/vnd.jupyter.widget-view+json": {
       "model_id": "d2bbbfa0e93548c289c6ccc8b6c7d3d4",
       "version_major": 2,
       "version_minor": 0
      },
      "text/plain": [
       "HBox(children=(FloatProgress(value=0.0, max=72.0), HTML(value='')))"
      ]
     },
     "metadata": {},
     "output_type": "display_data"
    },
    {
     "name": "stdout",
     "output_type": "stream",
     "text": [
      "\n",
      "   % Time: 0:25:45.111035 | Iteration:  2000 | Batch:  257/1743 | Train loss: 0.4090 | Val loss: 0.4717\n"
     ]
    },
    {
     "data": {
      "application/vnd.jupyter.widget-view+json": {
       "model_id": "5504ce7cdac149b88e9107c96c1a3710",
       "version_major": 2,
       "version_minor": 0
      },
      "text/plain": [
       "HBox(children=(FloatProgress(value=0.0, max=72.0), HTML(value='')))"
      ]
     },
     "metadata": {},
     "output_type": "display_data"
    },
    {
     "name": "stdout",
     "output_type": "stream",
     "text": [
      "\n",
      "   % Time: 0:32:10.585169 | Iteration:  2500 | Batch:  757/1743 | Train loss: 0.4017 | Val loss: 0.3571\n"
     ]
    },
    {
     "data": {
      "application/vnd.jupyter.widget-view+json": {
       "model_id": "98b83820c7344b1f972be89447f3c3ab",
       "version_major": 2,
       "version_minor": 0
      },
      "text/plain": [
       "HBox(children=(FloatProgress(value=0.0, max=72.0), HTML(value='')))"
      ]
     },
     "metadata": {},
     "output_type": "display_data"
    },
    {
     "name": "stdout",
     "output_type": "stream",
     "text": [
      "\n",
      "   % Time: 0:38:37.628882 | Iteration:  3000 | Batch: 1257/1743 | Train loss: 0.3947 | Val loss: 0.2998\n",
      "\n",
      "=> EPOCH 3\n"
     ]
    },
    {
     "data": {
      "application/vnd.jupyter.widget-view+json": {
       "model_id": "a413d0317c3f4b74a75beb4d4cac2b55",
       "version_major": 2,
       "version_minor": 0
      },
      "text/plain": [
       "HBox(children=(FloatProgress(value=1.0, bar_style='info', max=1.0), HTML(value='')))"
      ]
     },
     "metadata": {},
     "output_type": "display_data"
    },
    {
     "data": {
      "application/vnd.jupyter.widget-view+json": {
       "model_id": "f5e1b55c427643f0aad7345a1a243f2a",
       "version_major": 2,
       "version_minor": 0
      },
      "text/plain": [
       "HBox(children=(FloatProgress(value=0.0, max=72.0), HTML(value='')))"
      ]
     },
     "metadata": {},
     "output_type": "display_data"
    },
    {
     "name": "stdout",
     "output_type": "stream",
     "text": [
      "\n",
      "   % Time: 0:45:02.133263 | Iteration:  3500 | Batch:   14/1743 | Train loss: 0.4008 | Val loss: 0.3719\n"
     ]
    },
    {
     "data": {
      "application/vnd.jupyter.widget-view+json": {
       "model_id": "3ea73b9505e1454589f8121eacef2859",
       "version_major": 2,
       "version_minor": 0
      },
      "text/plain": [
       "HBox(children=(FloatProgress(value=0.0, max=72.0), HTML(value='')))"
      ]
     },
     "metadata": {},
     "output_type": "display_data"
    },
    {
     "name": "stdout",
     "output_type": "stream",
     "text": [
      "\n",
      "   % Time: 0:52:15.239095 | Iteration:  4000 | Batch:  514/1743 | Train loss: 0.3867 | Val loss: 0.4453\n"
     ]
    },
    {
     "data": {
      "application/vnd.jupyter.widget-view+json": {
       "model_id": "8e2d34caab70464b80a5deb0805620bb",
       "version_major": 2,
       "version_minor": 0
      },
      "text/plain": [
       "HBox(children=(FloatProgress(value=0.0, max=72.0), HTML(value='')))"
      ]
     },
     "metadata": {},
     "output_type": "display_data"
    },
    {
     "name": "stdout",
     "output_type": "stream",
     "text": [
      "\n",
      "   % Time: 0:58:42.723854 | Iteration:  4500 | Batch: 1014/1743 | Train loss: 0.3872 | Val loss: 0.2880\n"
     ]
    },
    {
     "data": {
      "application/vnd.jupyter.widget-view+json": {
       "model_id": "6482545a60514ffea151a38316946e04",
       "version_major": 2,
       "version_minor": 0
      },
      "text/plain": [
       "HBox(children=(FloatProgress(value=0.0, max=72.0), HTML(value='')))"
      ]
     },
     "metadata": {},
     "output_type": "display_data"
    },
    {
     "name": "stdout",
     "output_type": "stream",
     "text": [
      "\n",
      "   % Time: 1:05:09.853153 | Iteration:  5000 | Batch: 1514/1743 | Train loss: 0.3844 | Val loss: 0.2751\n",
      "\n",
      "=> EPOCH 4\n"
     ]
    },
    {
     "data": {
      "application/vnd.jupyter.widget-view+json": {
       "model_id": "2b119631d09d47bfaac1579926f325bc",
       "version_major": 2,
       "version_minor": 0
      },
      "text/plain": [
       "HBox(children=(FloatProgress(value=1.0, bar_style='info', max=1.0), HTML(value='')))"
      ]
     },
     "metadata": {},
     "output_type": "display_data"
    },
    {
     "data": {
      "application/vnd.jupyter.widget-view+json": {
       "model_id": "35327dd39639492a82ff76cdfad72733",
       "version_major": 2,
       "version_minor": 0
      },
      "text/plain": [
       "HBox(children=(FloatProgress(value=0.0, max=72.0), HTML(value='')))"
      ]
     },
     "metadata": {},
     "output_type": "display_data"
    },
    {
     "name": "stdout",
     "output_type": "stream",
     "text": [
      "\n",
      "   % Time: 1:11:37.049224 | Iteration:  5500 | Batch:  271/1743 | Train loss: 0.3832 | Val loss: 0.3902\n"
     ]
    },
    {
     "data": {
      "application/vnd.jupyter.widget-view+json": {
       "model_id": "2728eb9b1c174f68a0473e6533a49c2b",
       "version_major": 2,
       "version_minor": 0
      },
      "text/plain": [
       "HBox(children=(FloatProgress(value=0.0, max=72.0), HTML(value='')))"
      ]
     },
     "metadata": {},
     "output_type": "display_data"
    },
    {
     "name": "stdout",
     "output_type": "stream",
     "text": [
      "\n",
      "   % Time: 1:18:03.369979 | Iteration:  6000 | Batch:  771/1743 | Train loss: 0.3724 | Val loss: 0.3881\n"
     ]
    },
    {
     "data": {
      "application/vnd.jupyter.widget-view+json": {
       "model_id": "f3211415550e49468b4eb7ec47352229",
       "version_major": 2,
       "version_minor": 0
      },
      "text/plain": [
       "HBox(children=(FloatProgress(value=0.0, max=72.0), HTML(value='')))"
      ]
     },
     "metadata": {},
     "output_type": "display_data"
    },
    {
     "name": "stdout",
     "output_type": "stream",
     "text": [
      "\n",
      "   % Time: 1:24:30.322476 | Iteration:  6500 | Batch: 1271/1743 | Train loss: 0.3772 | Val loss: 0.3753\n",
      "\n",
      "=> EPOCH 5\n"
     ]
    },
    {
     "data": {
      "application/vnd.jupyter.widget-view+json": {
       "model_id": "fc1f419ab5ac4e15aa3b944e60f69143",
       "version_major": 2,
       "version_minor": 0
      },
      "text/plain": [
       "HBox(children=(FloatProgress(value=1.0, bar_style='info', max=1.0), HTML(value='')))"
      ]
     },
     "metadata": {},
     "output_type": "display_data"
    },
    {
     "data": {
      "application/vnd.jupyter.widget-view+json": {
       "model_id": "b44948cdd55a4328b05367bd8effea05",
       "version_major": 2,
       "version_minor": 0
      },
      "text/plain": [
       "HBox(children=(FloatProgress(value=0.0, max=72.0), HTML(value='')))"
      ]
     },
     "metadata": {},
     "output_type": "display_data"
    },
    {
     "name": "stdout",
     "output_type": "stream",
     "text": [
      "\n",
      "   % Time: 1:30:57.197021 | Iteration:  7000 | Batch:   28/1743 | Train loss: 0.3802 | Val loss: 0.3416\n",
      "=> Adjust learning rate to: 0.034999999999999996\n"
     ]
    },
    {
     "data": {
      "application/vnd.jupyter.widget-view+json": {
       "model_id": "42fc0d5f35264070a530dad40bf67624",
       "version_major": 2,
       "version_minor": 0
      },
      "text/plain": [
       "HBox(children=(FloatProgress(value=0.0, max=72.0), HTML(value='')))"
      ]
     },
     "metadata": {},
     "output_type": "display_data"
    },
    {
     "name": "stdout",
     "output_type": "stream",
     "text": [
      "\n",
      "   % Time: 1:37:23.173932 | Iteration:  7500 | Batch:  528/1743 | Train loss: 0.3657 | Val loss: 0.4973\n"
     ]
    },
    {
     "data": {
      "application/vnd.jupyter.widget-view+json": {
       "model_id": "d183954d60d74de4b0effe42cbddc416",
       "version_major": 2,
       "version_minor": 0
      },
      "text/plain": [
       "HBox(children=(FloatProgress(value=0.0, max=72.0), HTML(value='')))"
      ]
     },
     "metadata": {},
     "output_type": "display_data"
    },
    {
     "name": "stdout",
     "output_type": "stream",
     "text": [
      "\n",
      "   % Time: 1:43:48.425989 | Iteration:  8000 | Batch: 1028/1743 | Train loss: 0.3737 | Val loss: 0.3444\n"
     ]
    },
    {
     "data": {
      "application/vnd.jupyter.widget-view+json": {
       "model_id": "40beb8f9a0e34c859333430998f62b29",
       "version_major": 2,
       "version_minor": 0
      },
      "text/plain": [
       "HBox(children=(FloatProgress(value=0.0, max=72.0), HTML(value='')))"
      ]
     },
     "metadata": {},
     "output_type": "display_data"
    },
    {
     "name": "stdout",
     "output_type": "stream",
     "text": [
      "\n",
      "   % Time: 1:50:53.212174 | Iteration:  8500 | Batch: 1528/1743 | Train loss: 0.3658 | Val loss: 0.3520\n",
      "\n",
      "=> EPOCH 6\n"
     ]
    },
    {
     "data": {
      "application/vnd.jupyter.widget-view+json": {
       "model_id": "b8fa95fdbcb44c679a1f32f876dab078",
       "version_major": 2,
       "version_minor": 0
      },
      "text/plain": [
       "HBox(children=(FloatProgress(value=1.0, bar_style='info', max=1.0), HTML(value='')))"
      ]
     },
     "metadata": {},
     "output_type": "display_data"
    },
    {
     "data": {
      "application/vnd.jupyter.widget-view+json": {
       "model_id": "8eed159c909947bfa156c399237e8e7d",
       "version_major": 2,
       "version_minor": 0
      },
      "text/plain": [
       "HBox(children=(FloatProgress(value=0.0, max=72.0), HTML(value='')))"
      ]
     },
     "metadata": {},
     "output_type": "display_data"
    },
    {
     "name": "stdout",
     "output_type": "stream",
     "text": [
      "\n",
      "   % Time: 1:57:22.653951 | Iteration:  9000 | Batch:  285/1743 | Train loss: 0.3643 | Val loss: 0.3353\n"
     ]
    },
    {
     "data": {
      "application/vnd.jupyter.widget-view+json": {
       "model_id": "301db5eff7bd46498afe174025ab0e77",
       "version_major": 2,
       "version_minor": 0
      },
      "text/plain": [
       "HBox(children=(FloatProgress(value=0.0, max=72.0), HTML(value='')))"
      ]
     },
     "metadata": {},
     "output_type": "display_data"
    },
    {
     "name": "stdout",
     "output_type": "stream",
     "text": [
      "\n",
      "   % Time: 2:03:56.049095 | Iteration:  9500 | Batch:  785/1743 | Train loss: 0.3623 | Val loss: 0.3850\n"
     ]
    },
    {
     "data": {
      "application/vnd.jupyter.widget-view+json": {
       "model_id": "8ea2846bbd914cb89c0ad04b3c734dc9",
       "version_major": 2,
       "version_minor": 0
      },
      "text/plain": [
       "HBox(children=(FloatProgress(value=0.0, max=72.0), HTML(value='')))"
      ]
     },
     "metadata": {},
     "output_type": "display_data"
    },
    {
     "name": "stdout",
     "output_type": "stream",
     "text": [
      "\n",
      "   % Time: 2:10:23.237012 | Iteration: 10000 | Batch: 1285/1743 | Train loss: 0.3610 | Val loss: 0.4246\n",
      "\n",
      "=> EPOCH 7\n"
     ]
    },
    {
     "data": {
      "application/vnd.jupyter.widget-view+json": {
       "model_id": "2a1999ff60004d5c80f3206c7380b8ba",
       "version_major": 2,
       "version_minor": 0
      },
      "text/plain": [
       "HBox(children=(FloatProgress(value=1.0, bar_style='info', max=1.0), HTML(value='')))"
      ]
     },
     "metadata": {},
     "output_type": "display_data"
    },
    {
     "data": {
      "application/vnd.jupyter.widget-view+json": {
       "model_id": "6f9286ec3ad74d8c9edca72f1ef58e28",
       "version_major": 2,
       "version_minor": 0
      },
      "text/plain": [
       "HBox(children=(FloatProgress(value=0.0, max=72.0), HTML(value='')))"
      ]
     },
     "metadata": {},
     "output_type": "display_data"
    },
    {
     "name": "stdout",
     "output_type": "stream",
     "text": [
      "\n",
      "   % Time: 2:16:49.693731 | Iteration: 10500 | Batch:   42/1743 | Train loss: 0.3631 | Val loss: 0.4695\n"
     ]
    },
    {
     "data": {
      "application/vnd.jupyter.widget-view+json": {
       "model_id": "05276dd33fde43ceba1188cc6821c608",
       "version_major": 2,
       "version_minor": 0
      },
      "text/plain": [
       "HBox(children=(FloatProgress(value=0.0, max=72.0), HTML(value='')))"
      ]
     },
     "metadata": {},
     "output_type": "display_data"
    },
    {
     "name": "stdout",
     "output_type": "stream",
     "text": [
      "\n",
      "   % Time: 2:23:17.001788 | Iteration: 11000 | Batch:  542/1743 | Train loss: 0.3566 | Val loss: 0.3945\n",
      "=> Adjust learning rate to: 0.024499999999999997\n"
     ]
    },
    {
     "data": {
      "application/vnd.jupyter.widget-view+json": {
       "model_id": "b5dfcce9ce3a4382bab285e4d31196de",
       "version_major": 2,
       "version_minor": 0
      },
      "text/plain": [
       "HBox(children=(FloatProgress(value=0.0, max=72.0), HTML(value='')))"
      ]
     },
     "metadata": {},
     "output_type": "display_data"
    },
    {
     "name": "stdout",
     "output_type": "stream",
     "text": [
      "\n",
      "   % Time: 2:29:43.219739 | Iteration: 11500 | Batch: 1042/1743 | Train loss: 0.3549 | Val loss: 0.3726\n"
     ]
    },
    {
     "data": {
      "application/vnd.jupyter.widget-view+json": {
       "model_id": "ff38f0614071431bb2beb71c0c23ef8f",
       "version_major": 2,
       "version_minor": 0
      },
      "text/plain": [
       "HBox(children=(FloatProgress(value=0.0, max=72.0), HTML(value='')))"
      ]
     },
     "metadata": {},
     "output_type": "display_data"
    },
    {
     "name": "stdout",
     "output_type": "stream",
     "text": [
      "\n",
      "   % Time: 2:36:11.504944 | Iteration: 12000 | Batch: 1542/1743 | Train loss: 0.3580 | Val loss: 0.3545\n",
      "\n",
      "=> EPOCH 8\n"
     ]
    },
    {
     "data": {
      "application/vnd.jupyter.widget-view+json": {
       "model_id": "c9991595161549b98454b69ef5e4cbc0",
       "version_major": 2,
       "version_minor": 0
      },
      "text/plain": [
       "HBox(children=(FloatProgress(value=1.0, bar_style='info', max=1.0), HTML(value='')))"
      ]
     },
     "metadata": {},
     "output_type": "display_data"
    },
    {
     "data": {
      "application/vnd.jupyter.widget-view+json": {
       "model_id": "60f63641e2bb4f49a2f7f7c2897efb6e",
       "version_major": 2,
       "version_minor": 0
      },
      "text/plain": [
       "HBox(children=(FloatProgress(value=0.0, max=72.0), HTML(value='')))"
      ]
     },
     "metadata": {},
     "output_type": "display_data"
    },
    {
     "name": "stdout",
     "output_type": "stream",
     "text": [
      "\n",
      "   % Time: 2:42:37.022221 | Iteration: 12500 | Batch:  299/1743 | Train loss: 0.3567 | Val loss: 0.3544\n"
     ]
    },
    {
     "data": {
      "application/vnd.jupyter.widget-view+json": {
       "model_id": "52434dcd1947480f8ee24fc728918e03",
       "version_major": 2,
       "version_minor": 0
      },
      "text/plain": [
       "HBox(children=(FloatProgress(value=0.0, max=72.0), HTML(value='')))"
      ]
     },
     "metadata": {},
     "output_type": "display_data"
    },
    {
     "name": "stdout",
     "output_type": "stream",
     "text": [
      "\n",
      "   % Time: 2:49:41.243371 | Iteration: 13000 | Batch:  799/1743 | Train loss: 0.3537 | Val loss: 0.3769\n"
     ]
    },
    {
     "data": {
      "application/vnd.jupyter.widget-view+json": {
       "model_id": "6fa38b49b3a545f0b4e2cf27284ce0f1",
       "version_major": 2,
       "version_minor": 0
      },
      "text/plain": [
       "HBox(children=(FloatProgress(value=0.0, max=72.0), HTML(value='')))"
      ]
     },
     "metadata": {},
     "output_type": "display_data"
    },
    {
     "name": "stdout",
     "output_type": "stream",
     "text": [
      "\n",
      "   % Time: 2:56:10.534014 | Iteration: 13500 | Batch: 1299/1743 | Train loss: 0.3555 | Val loss: 0.3481\n",
      "\n",
      "=> EPOCH 9\n"
     ]
    },
    {
     "data": {
      "application/vnd.jupyter.widget-view+json": {
       "model_id": "ce60e0ac376f44eba40ea068e67d16c4",
       "version_major": 2,
       "version_minor": 0
      },
      "text/plain": [
       "HBox(children=(FloatProgress(value=1.0, bar_style='info', max=1.0), HTML(value='')))"
      ]
     },
     "metadata": {},
     "output_type": "display_data"
    },
    {
     "data": {
      "application/vnd.jupyter.widget-view+json": {
       "model_id": "3a8c3c1f1bb745ed96c6fb7cc116e556",
       "version_major": 2,
       "version_minor": 0
      },
      "text/plain": [
       "HBox(children=(FloatProgress(value=0.0, max=72.0), HTML(value='')))"
      ]
     },
     "metadata": {},
     "output_type": "display_data"
    },
    {
     "name": "stdout",
     "output_type": "stream",
     "text": [
      "\n",
      "   % Time: 3:02:40.481356 | Iteration: 14000 | Batch:   56/1743 | Train loss: 0.3488 | Val loss: 0.3668\n"
     ]
    },
    {
     "data": {
      "application/vnd.jupyter.widget-view+json": {
       "model_id": "8e331e5556164f8ab68f52963694a2ce",
       "version_major": 2,
       "version_minor": 0
      },
      "text/plain": [
       "HBox(children=(FloatProgress(value=0.0, max=72.0), HTML(value='')))"
      ]
     },
     "metadata": {},
     "output_type": "display_data"
    },
    {
     "name": "stdout",
     "output_type": "stream",
     "text": [
      "\n",
      "   % Time: 3:09:07.694791 | Iteration: 14500 | Batch:  556/1743 | Train loss: 0.3508 | Val loss: 0.3326\n"
     ]
    },
    {
     "data": {
      "application/vnd.jupyter.widget-view+json": {
       "model_id": "0bc84a209fe14f22b210afa1134db6c7",
       "version_major": 2,
       "version_minor": 0
      },
      "text/plain": [
       "HBox(children=(FloatProgress(value=0.0, max=72.0), HTML(value='')))"
      ]
     },
     "metadata": {},
     "output_type": "display_data"
    },
    {
     "name": "stdout",
     "output_type": "stream",
     "text": [
      "\n",
      "   % Time: 3:15:34.064771 | Iteration: 15000 | Batch: 1056/1743 | Train loss: 0.3483 | Val loss: 0.4132\n"
     ]
    },
    {
     "data": {
      "application/vnd.jupyter.widget-view+json": {
       "model_id": "f6d4343025124cf3a4e0165753c46b92",
       "version_major": 2,
       "version_minor": 0
      },
      "text/plain": [
       "HBox(children=(FloatProgress(value=0.0, max=72.0), HTML(value='')))"
      ]
     },
     "metadata": {},
     "output_type": "display_data"
    },
    {
     "name": "stdout",
     "output_type": "stream",
     "text": [
      "\n",
      "   % Time: 3:22:03.261291 | Iteration: 15500 | Batch: 1556/1743 | Train loss: 0.3538 | Val loss: 0.3384\n",
      "\n",
      "=> EPOCH 10\n"
     ]
    },
    {
     "data": {
      "application/vnd.jupyter.widget-view+json": {
       "model_id": "7cbc0d8a9d654c2d80130fab5136324f",
       "version_major": 2,
       "version_minor": 0
      },
      "text/plain": [
       "HBox(children=(FloatProgress(value=1.0, bar_style='info', max=1.0), HTML(value='')))"
      ]
     },
     "metadata": {},
     "output_type": "display_data"
    },
    {
     "data": {
      "application/vnd.jupyter.widget-view+json": {
       "model_id": "35c75e70d5d54055badf541cbcdbcaef",
       "version_major": 2,
       "version_minor": 0
      },
      "text/plain": [
       "HBox(children=(FloatProgress(value=0.0, max=72.0), HTML(value='')))"
      ]
     },
     "metadata": {},
     "output_type": "display_data"
    },
    {
     "name": "stdout",
     "output_type": "stream",
     "text": [
      "\n",
      "   % Time: 3:28:28.769408 | Iteration: 16000 | Batch:  313/1743 | Train loss: 0.3459 | Val loss: 0.3972\n"
     ]
    },
    {
     "data": {
      "application/vnd.jupyter.widget-view+json": {
       "model_id": "de9a31cfd0ea4394b696113626d830f7",
       "version_major": 2,
       "version_minor": 0
      },
      "text/plain": [
       "HBox(children=(FloatProgress(value=0.0, max=72.0), HTML(value='')))"
      ]
     },
     "metadata": {},
     "output_type": "display_data"
    },
    {
     "name": "stdout",
     "output_type": "stream",
     "text": [
      "\n",
      "   % Time: 3:34:57.378596 | Iteration: 16500 | Batch:  813/1743 | Train loss: 0.3460 | Val loss: 0.3068\n"
     ]
    },
    {
     "data": {
      "application/vnd.jupyter.widget-view+json": {
       "model_id": "b4fa251407874dfaaace175677263536",
       "version_major": 2,
       "version_minor": 0
      },
      "text/plain": [
       "HBox(children=(FloatProgress(value=0.0, max=72.0), HTML(value='')))"
      ]
     },
     "metadata": {},
     "output_type": "display_data"
    },
    {
     "name": "stdout",
     "output_type": "stream",
     "text": [
      "\n",
      "   % Time: 3:41:26.075406 | Iteration: 17000 | Batch: 1313/1743 | Train loss: 0.3474 | Val loss: 0.3471\n",
      "\n",
      "=> EPOCH 11\n"
     ]
    },
    {
     "data": {
      "application/vnd.jupyter.widget-view+json": {
       "model_id": "b1b9a418813849b3a963051680680fc1",
       "version_major": 2,
       "version_minor": 0
      },
      "text/plain": [
       "HBox(children=(FloatProgress(value=1.0, bar_style='info', max=1.0), HTML(value='')))"
      ]
     },
     "metadata": {},
     "output_type": "display_data"
    },
    {
     "data": {
      "application/vnd.jupyter.widget-view+json": {
       "model_id": "b50af54993b349108906e748f03ba846",
       "version_major": 2,
       "version_minor": 0
      },
      "text/plain": [
       "HBox(children=(FloatProgress(value=0.0, max=72.0), HTML(value='')))"
      ]
     },
     "metadata": {},
     "output_type": "display_data"
    },
    {
     "name": "stdout",
     "output_type": "stream",
     "text": [
      "\n",
      "   % Time: 3:48:27.732287 | Iteration: 17500 | Batch:   70/1743 | Train loss: 0.3451 | Val loss: 0.3778\n"
     ]
    },
    {
     "data": {
      "application/vnd.jupyter.widget-view+json": {
       "model_id": "71b51b2ba9154ae8a43d71ef9e3495a8",
       "version_major": 2,
       "version_minor": 0
      },
      "text/plain": [
       "HBox(children=(FloatProgress(value=0.0, max=72.0), HTML(value='')))"
      ]
     },
     "metadata": {},
     "output_type": "display_data"
    },
    {
     "name": "stdout",
     "output_type": "stream",
     "text": [
      "\n",
      "   % Time: 3:54:55.942591 | Iteration: 18000 | Batch:  570/1743 | Train loss: 0.3413 | Val loss: 0.3815\n"
     ]
    },
    {
     "data": {
      "application/vnd.jupyter.widget-view+json": {
       "model_id": "eb62b21b1b53420cba09e9e7bfb28252",
       "version_major": 2,
       "version_minor": 0
      },
      "text/plain": [
       "HBox(children=(FloatProgress(value=0.0, max=72.0), HTML(value='')))"
      ]
     },
     "metadata": {},
     "output_type": "display_data"
    },
    {
     "name": "stdout",
     "output_type": "stream",
     "text": [
      "\n",
      "   % Time: 4:01:23.430745 | Iteration: 18500 | Batch: 1070/1743 | Train loss: 0.3495 | Val loss: 0.4288\n",
      "=> Adjust learning rate to: 0.01715\n"
     ]
    },
    {
     "data": {
      "application/vnd.jupyter.widget-view+json": {
       "model_id": "d4fa4f48cd92401a8e36b03d775737d1",
       "version_major": 2,
       "version_minor": 0
      },
      "text/plain": [
       "HBox(children=(FloatProgress(value=0.0, max=72.0), HTML(value='')))"
      ]
     },
     "metadata": {},
     "output_type": "display_data"
    },
    {
     "name": "stdout",
     "output_type": "stream",
     "text": [
      "\n",
      "   % Time: 4:07:50.995798 | Iteration: 19000 | Batch: 1570/1743 | Train loss: 0.3420 | Val loss: 0.3465\n",
      "\n",
      "=> EPOCH 12\n"
     ]
    },
    {
     "data": {
      "application/vnd.jupyter.widget-view+json": {
       "model_id": "5972f5b03b32467095dad79184f8471b",
       "version_major": 2,
       "version_minor": 0
      },
      "text/plain": [
       "HBox(children=(FloatProgress(value=1.0, bar_style='info', max=1.0), HTML(value='')))"
      ]
     },
     "metadata": {},
     "output_type": "display_data"
    },
    {
     "data": {
      "application/vnd.jupyter.widget-view+json": {
       "model_id": "5cbe290e011d4e2caecbb06ea1ef8e70",
       "version_major": 2,
       "version_minor": 0
      },
      "text/plain": [
       "HBox(children=(FloatProgress(value=0.0, max=72.0), HTML(value='')))"
      ]
     },
     "metadata": {},
     "output_type": "display_data"
    },
    {
     "name": "stdout",
     "output_type": "stream",
     "text": [
      "\n",
      "   % Time: 4:14:18.018420 | Iteration: 19500 | Batch:  327/1743 | Train loss: 0.3401 | Val loss: 0.3837\n"
     ]
    },
    {
     "data": {
      "application/vnd.jupyter.widget-view+json": {
       "model_id": "94aae0a993964fad8d68b13fd89d7a32",
       "version_major": 2,
       "version_minor": 0
      },
      "text/plain": [
       "HBox(children=(FloatProgress(value=0.0, max=72.0), HTML(value='')))"
      ]
     },
     "metadata": {},
     "output_type": "display_data"
    },
    {
     "name": "stdout",
     "output_type": "stream",
     "text": [
      "\n",
      "   % Time: 4:20:44.971259 | Iteration: 20000 | Batch:  827/1743 | Train loss: 0.3400 | Val loss: 0.3682\n"
     ]
    },
    {
     "data": {
      "application/vnd.jupyter.widget-view+json": {
       "model_id": "2c3826ea5270423bbfdefa2922181bec",
       "version_major": 2,
       "version_minor": 0
      },
      "text/plain": [
       "HBox(children=(FloatProgress(value=0.0, max=72.0), HTML(value='')))"
      ]
     },
     "metadata": {},
     "output_type": "display_data"
    },
    {
     "name": "stdout",
     "output_type": "stream",
     "text": [
      "\n",
      "   % Time: 4:27:12.246120 | Iteration: 20500 | Batch: 1327/1743 | Train loss: 0.3417 | Val loss: 0.3675\n",
      "\n",
      "=> EPOCH 13\n"
     ]
    },
    {
     "data": {
      "application/vnd.jupyter.widget-view+json": {
       "model_id": "5992b1ad36d84eacb9de2cf3200b205d",
       "version_major": 2,
       "version_minor": 0
      },
      "text/plain": [
       "HBox(children=(FloatProgress(value=1.0, bar_style='info', max=1.0), HTML(value='')))"
      ]
     },
     "metadata": {},
     "output_type": "display_data"
    },
    {
     "data": {
      "application/vnd.jupyter.widget-view+json": {
       "model_id": "2b6a3a38b3e1442983dad714e81b3380",
       "version_major": 2,
       "version_minor": 0
      },
      "text/plain": [
       "HBox(children=(FloatProgress(value=0.0, max=72.0), HTML(value='')))"
      ]
     },
     "metadata": {},
     "output_type": "display_data"
    },
    {
     "name": "stdout",
     "output_type": "stream",
     "text": [
      "\n",
      "   % Time: 4:33:37.760237 | Iteration: 21000 | Batch:   84/1743 | Train loss: 0.3346 | Val loss: 0.3646\n",
      "=> Adjust learning rate to: 0.012004999999999998\n"
     ]
    },
    {
     "data": {
      "application/vnd.jupyter.widget-view+json": {
       "model_id": "2b573ddbdadd471aa0ea726344640476",
       "version_major": 2,
       "version_minor": 0
      },
      "text/plain": [
       "HBox(children=(FloatProgress(value=0.0, max=72.0), HTML(value='')))"
      ]
     },
     "metadata": {},
     "output_type": "display_data"
    },
    {
     "name": "stdout",
     "output_type": "stream",
     "text": [
      "\n",
      "   % Time: 4:40:05.254644 | Iteration: 21500 | Batch:  584/1743 | Train loss: 0.3374 | Val loss: 0.3445\n"
     ]
    },
    {
     "data": {
      "application/vnd.jupyter.widget-view+json": {
       "model_id": "668c93d60c1c48aa8b146fd9bef3901b",
       "version_major": 2,
       "version_minor": 0
      },
      "text/plain": [
       "HBox(children=(FloatProgress(value=0.0, max=72.0), HTML(value='')))"
      ]
     },
     "metadata": {},
     "output_type": "display_data"
    },
    {
     "name": "stdout",
     "output_type": "stream",
     "text": [
      "\n",
      "   % Time: 4:46:33.113319 | Iteration: 22000 | Batch: 1084/1743 | Train loss: 0.3415 | Val loss: 0.3464\n"
     ]
    },
    {
     "data": {
      "application/vnd.jupyter.widget-view+json": {
       "model_id": "016ea9c9901f447d877fbea0fa2294e2",
       "version_major": 2,
       "version_minor": 0
      },
      "text/plain": [
       "HBox(children=(FloatProgress(value=0.0, max=72.0), HTML(value='')))"
      ]
     },
     "metadata": {},
     "output_type": "display_data"
    },
    {
     "name": "stdout",
     "output_type": "stream",
     "text": [
      "\n",
      "   % Time: 4:53:37.427276 | Iteration: 22500 | Batch: 1584/1743 | Train loss: 0.3359 | Val loss: 0.3482\n",
      "\n",
      "=> EPOCH 14\n"
     ]
    },
    {
     "data": {
      "application/vnd.jupyter.widget-view+json": {
       "model_id": "aba99e59ffcd41739d516016e98418e9",
       "version_major": 2,
       "version_minor": 0
      },
      "text/plain": [
       "HBox(children=(FloatProgress(value=1.0, bar_style='info', max=1.0), HTML(value='')))"
      ]
     },
     "metadata": {},
     "output_type": "display_data"
    },
    {
     "data": {
      "application/vnd.jupyter.widget-view+json": {
       "model_id": "1aa0f8590844490f87ea48da0989fa43",
       "version_major": 2,
       "version_minor": 0
      },
      "text/plain": [
       "HBox(children=(FloatProgress(value=0.0, max=72.0), HTML(value='')))"
      ]
     },
     "metadata": {},
     "output_type": "display_data"
    },
    {
     "name": "stdout",
     "output_type": "stream",
     "text": [
      "\n",
      "   % Time: 5:00:03.883268 | Iteration: 23000 | Batch:  341/1743 | Train loss: 0.3326 | Val loss: 0.3968\n"
     ]
    },
    {
     "data": {
      "application/vnd.jupyter.widget-view+json": {
       "model_id": "58ff9b12b45943cba8955b9f6b737235",
       "version_major": 2,
       "version_minor": 0
      },
      "text/plain": [
       "HBox(children=(FloatProgress(value=0.0, max=72.0), HTML(value='')))"
      ]
     },
     "metadata": {},
     "output_type": "display_data"
    },
    {
     "name": "stdout",
     "output_type": "stream",
     "text": [
      "\n",
      "   % Time: 5:06:30.125372 | Iteration: 23500 | Batch:  841/1743 | Train loss: 0.3379 | Val loss: 0.3732\n",
      "=> Adjust learning rate to: 0.008403499999999998\n"
     ]
    },
    {
     "data": {
      "application/vnd.jupyter.widget-view+json": {
       "model_id": "c5f4a58354274fffa5c9074553e14728",
       "version_major": 2,
       "version_minor": 0
      },
      "text/plain": [
       "HBox(children=(FloatProgress(value=0.0, max=72.0), HTML(value='')))"
      ]
     },
     "metadata": {},
     "output_type": "display_data"
    },
    {
     "name": "stdout",
     "output_type": "stream",
     "text": [
      "\n",
      "   % Time: 5:12:59.069138 | Iteration: 24000 | Batch: 1341/1743 | Train loss: 0.3289 | Val loss: 0.3867\n",
      "\n",
      "=> EPOCH 15\n"
     ]
    },
    {
     "data": {
      "application/vnd.jupyter.widget-view+json": {
       "model_id": "7ff03b1f21f248659e0dff1950baee99",
       "version_major": 2,
       "version_minor": 0
      },
      "text/plain": [
       "HBox(children=(FloatProgress(value=1.0, bar_style='info', max=1.0), HTML(value='')))"
      ]
     },
     "metadata": {},
     "output_type": "display_data"
    },
    {
     "data": {
      "application/vnd.jupyter.widget-view+json": {
       "model_id": "36513861b458489c893fb83ad802d7fc",
       "version_major": 2,
       "version_minor": 0
      },
      "text/plain": [
       "HBox(children=(FloatProgress(value=0.0, max=72.0), HTML(value='')))"
      ]
     },
     "metadata": {},
     "output_type": "display_data"
    },
    {
     "name": "stdout",
     "output_type": "stream",
     "text": [
      "\n",
      "   % Time: 5:19:24.844814 | Iteration: 24500 | Batch:   98/1743 | Train loss: 0.3360 | Val loss: 0.3837\n"
     ]
    },
    {
     "data": {
      "application/vnd.jupyter.widget-view+json": {
       "model_id": "89323697fb274d1494634d9980d2f8d0",
       "version_major": 2,
       "version_minor": 0
      },
      "text/plain": [
       "HBox(children=(FloatProgress(value=0.0, max=72.0), HTML(value='')))"
      ]
     },
     "metadata": {},
     "output_type": "display_data"
    },
    {
     "name": "stdout",
     "output_type": "stream",
     "text": [
      "\n",
      "   % Time: 5:25:51.051837 | Iteration: 25000 | Batch:  598/1743 | Train loss: 0.3319 | Val loss: 0.3315\n"
     ]
    },
    {
     "data": {
      "application/vnd.jupyter.widget-view+json": {
       "model_id": "2ac4a5cf9341450f81a9e0fb7443351c",
       "version_major": 2,
       "version_minor": 0
      },
      "text/plain": [
       "HBox(children=(FloatProgress(value=0.0, max=72.0), HTML(value='')))"
      ]
     },
     "metadata": {},
     "output_type": "display_data"
    },
    {
     "name": "stdout",
     "output_type": "stream",
     "text": [
      "\n",
      "   % Time: 5:32:18.731427 | Iteration: 25500 | Batch: 1098/1743 | Train loss: 0.3300 | Val loss: 0.3905\n"
     ]
    },
    {
     "data": {
      "application/vnd.jupyter.widget-view+json": {
       "model_id": "dbaa9469905d4aaaa7b3a9f0a3a2e1e2",
       "version_major": 2,
       "version_minor": 0
      },
      "text/plain": [
       "HBox(children=(FloatProgress(value=0.0, max=72.0), HTML(value='')))"
      ]
     },
     "metadata": {},
     "output_type": "display_data"
    },
    {
     "name": "stdout",
     "output_type": "stream",
     "text": [
      "\n",
      "   % Time: 5:38:45.038385 | Iteration: 26000 | Batch: 1598/1743 | Train loss: 0.3346 | Val loss: 0.3695\n",
      "\n"
     ]
    }
   ],
   "source": [
    "for neighbor in [3]:\n",
    "    ''' initials '''\n",
    "    # seed_torch(config.SEED)\n",
    "    seed_torch(config.SEED)\n",
    "    config.N_CLASSES = 1\n",
    "    config.EDGE_INDEX = \"edgeIndex{}\".format(str(neighbor))\n",
    "    model_name = \"GCN\"\n",
    "\n",
    "    ''' rebuild dataset and dataloader due to edge_index '''\n",
    "    train_dataset, val_dataset, test_dataset = get_datasets(config,\n",
    "                                                        root=config.DATA_PATH, # \"/home/kll482/cathay/dataset\",\n",
    "                                                        vocabulary=vocabulary,\n",
    "                                                        use_cuda=config.USE_CUDA,\n",
    "                                                        embedd_mode=\"bert\",\n",
    "                                                        train_df=train_df,\n",
    "                                                        val_df=val_df,\n",
    "                                                        test_df=test_df,\n",
    "                                                       )\n",
    "    \n",
    "    train_loader = DataLoader(train_dataset, batch_size=config.batch_size, shuffle=True)\n",
    "    val_loader = DataLoader(val_dataset, batch_size=1024, shuffle=False)\n",
    "    test_loader = DataLoader(test_dataset, batch_size=1024, shuffle=False)\n",
    "    \n",
    "    ''' initializing the model '''\n",
    "    model = BinGCNConv(config.NUM_FEATURES, config.N_CLASSES, drop=0).to(device)\n",
    "    criterion = nn.BCEWithLogitsLoss().to(device)\n",
    "\n",
    "    # MultiClass\n",
    "    # model = MultiClassNet(config.NUM_FEATURES, config.N_CLASSES).to(device)\n",
    "    # criterion = nn.NLLLoss().to(device)\n",
    "\n",
    "    optimizer = optim.Adagrad(model.parameters(), lr=config.lr)\n",
    "\n",
    "    config.best_model = os.path.join(config.result_path, \"checkpoint/neighbor{}_{}_{}.pth\".format(neighbor,\n",
    "                                                                                                 model_name,\n",
    "                                                                                                 datetime.now().strftime(\"%Y_%m_%d_%H_%M\")\n",
    "                                                                                                )\n",
    "                                    )\n",
    "    config.log_file = os.path.join(config.log_path, \"neighbor{}_{}_{}.txt\".format(neighbor,\n",
    "                                                                                  model_name,\n",
    "                                                                                  datetime.now().strftime(\"%Y_%m_%d_%H_%M\")\n",
    "                                                                                   )\n",
    "                                  )\n",
    "    ''' start training '''\n",
    "    saved = True\n",
    "    if 1 == 1:  # change to True to train\n",
    "        iteration = n_total = train_loss = n_bad_loss = 0\n",
    "        stop = False\n",
    "        best_val_loss = float(\"inf\")\n",
    "        init = datetime.now()\n",
    "        config.epochs = 15\n",
    "        config.log_every = 500\n",
    "        config.lr = 0.001\n",
    "    #     config.n_bad_loss 4\n",
    "\n",
    "        if saved:\n",
    "            output_text = write_config(config) + \"Start record at {}\\n\".format(str(datetime.now()))\n",
    "            write_log(output_text,\n",
    "                      config.log_file,\n",
    "                      \"w+\")\n",
    "\n",
    "        for epoch in range(1, config.epochs+1):\n",
    "            train(config, train_loader, val_loader, model, criterion, optimizer)\n",
    "            if stop:\n",
    "                break"
   ]
  },
  {
   "cell_type": "markdown",
   "metadata": {
    "ExecuteTime": {
     "end_time": "2020-08-05T07:27:10.966688Z",
     "start_time": "2020-08-05T07:27:10.964582Z"
    }
   },
   "source": [
    "## 8. Testing"
   ]
  },
  {
   "cell_type": "code",
   "execution_count": 36,
   "metadata": {},
   "outputs": [],
   "source": [
    "# result_name = config.best_model.split(\"/\")[-1][:-4]\n",
    "result_name = \"neighbor3_GCN_2020_08_25_14_02\"\n",
    "config.best_model = os.path.join(config.result_path, \"checkpoint/{}.pth\".format(result_name))\n",
    "config.log_file = os.path.join(config.log_path, \"{}.txt\".format(result_name))\n",
    "config.EDGE_INDEX = \"edgeIndex{}\".format(3)"
   ]
  },
  {
   "cell_type": "code",
   "execution_count": 37,
   "metadata": {},
   "outputs": [
    {
     "name": "stdout",
     "output_type": "stream",
     "text": [
      "start testing...\n"
     ]
    },
    {
     "name": "stderr",
     "output_type": "stream",
     "text": [
      "/scratch/kll482/anaconda3/envs/cathay/lib/python3.7/site-packages/ipykernel_launcher.py:12: TqdmDeprecationWarning: This function will be removed in tqdm==5.0.0\n",
      "Please use `tqdm.notebook.tqdm` instead of `tqdm.tqdm_notebook`\n",
      "  if sys.path[0] == '':\n"
     ]
    },
    {
     "data": {
      "application/vnd.jupyter.widget-view+json": {
       "model_id": "bd6eff82b4e54000a5326f0c92c8a5a9",
       "version_major": 2,
       "version_minor": 0
      },
      "text/plain": [
       "HBox(children=(FloatProgress(value=0.0, max=72.0), HTML(value='')))"
      ]
     },
     "metadata": {},
     "output_type": "display_data"
    },
    {
     "name": "stdout",
     "output_type": "stream",
     "text": [
      "\n",
      "\n",
      "=== Confusion Matrix ===\n",
      "\n",
      "      0      1\n",
      "0  5701   1285\n",
      "1  9198  56549\n",
      "\n"
     ]
    },
    {
     "data": {
      "image/png": "[encoded data removed]",
      "text/plain": [
       "<Figure size 432x288 with 2 Axes>"
      ]
     },
     "metadata": {
      "needs_background": "light"
     },
     "output_type": "display_data"
    }
   ],
   "source": [
    "model_test = model_load(config, \n",
    "                        BinGCNConv(config.NUM_FEATURES, config.N_CLASSES).to(device),\n",
    "                        name=result_name,\n",
    "                       )\n",
    "y_true, y_pred, y_prob = test(config, test_loader, model_test)"
   ]
  },
  {
   "cell_type": "code",
   "execution_count": 38,
   "metadata": {},
   "outputs": [
    {
     "name": "stdout",
     "output_type": "stream",
     "text": [
      "\n",
      "=== Classification Report ===\n",
      "\n",
      "              precision    recall  f1-score   support\n",
      "\n",
      "         0.0       0.38      0.82      0.52      6986\n",
      "         1.0       0.98      0.86      0.92     65747\n",
      "\n",
      "    accuracy                           0.86     72733\n",
      "   macro avg       0.68      0.84      0.72     72733\n",
      "weighted avg       0.92      0.86      0.88     72733\n",
      "\n",
      "\n"
     ]
    }
   ],
   "source": [
    "report = classification_report(y_true, y_pred)\n",
    "\n",
    "# write the report\n",
    "write_log(\"\\n{}\\n\\n{}\\n\".\\\n",
    "          format(\"=== Classification Report ===\",\n",
    "                 report\n",
    "                 \n",
    "                ),\n",
    "          config.log_file,\n",
    "          \"a+\")\n",
    "\n",
    "# print\n",
    "# print(report)"
   ]
  },
  {
   "cell_type": "markdown",
   "metadata": {},
   "source": [
    "### 8-2. Saving Testing Result"
   ]
  },
  {
   "cell_type": "code",
   "execution_count": 39,
   "metadata": {},
   "outputs": [],
   "source": [
    "config.PREDICTED_RESULT = os.path.join(\"result/graph/prediction\", \"{}.pkl\".format(result_name))"
   ]
  },
  {
   "cell_type": "code",
   "execution_count": 40,
   "metadata": {},
   "outputs": [],
   "source": [
    "# saving predicted result\n",
    "with open(config.PREDICTED_RESULT, 'wb') as f:\n",
    "    pickle.dump([y_true, y_pred, y_prob], f)"
   ]
  },
  {
   "cell_type": "code",
   "execution_count": 41,
   "metadata": {},
   "outputs": [],
   "source": [
    "with open(config.PREDICTED_RESULT, 'rb') as f:\n",
    "    y_true, y_pred, y_prob = pickle.load(f)"
   ]
  },
  {
   "cell_type": "markdown",
   "metadata": {},
   "source": [
    "## 9. Learning Curve"
   ]
  },
  {
   "cell_type": "markdown",
   "metadata": {},
   "source": [
    "read the log file for the train loss and the val loss."
   ]
  },
  {
   "cell_type": "code",
   "execution_count": 42,
   "metadata": {},
   "outputs": [],
   "source": [
    "config.log_file = os.path.join(config.log_path, \"{}.txt\".format(result_name))\n",
    "with open(config.log_file, \"r+\") as file:\n",
    "    logs = file.readlines()\n",
    "    val_loss = []\n",
    "    train_loss = []\n",
    "    for row in logs:\n",
    "        if len(row.split(\"|\")) < 2:\n",
    "            continue\n",
    "        else:\n",
    "            train_loss.append(float(row.split(\"|\")[-2].strip().split(\" \")[-1]))\n",
    "            val_loss.append(float(row.split(\"|\")[-1].strip().split(\" \")[-1]))\n",
    "    assert len(train_loss) == len(val_loss)"
   ]
  },
  {
   "cell_type": "markdown",
   "metadata": {},
   "source": [
    "draw the learning curve below."
   ]
  },
  {
   "cell_type": "code",
   "execution_count": 45,
   "metadata": {},
   "outputs": [
    {
     "data": {
      "text/plain": [
       "Text(0.5, 0, 'Per 500 Batch')"
      ]
     },
     "execution_count": 45,
     "metadata": {},
     "output_type": "execute_result"
    },
    {
     "data": {
      "image/png": "[encoded data removed]",
      "text/plain": [
       "<Figure size 432x288 with 1 Axes>"
      ]
     },
     "metadata": {
      "needs_background": "light"
     },
     "output_type": "display_data"
    }
   ],
   "source": [
    "fig, ax = plt.subplots()\n",
    "ax.plot(range(len(train_loss)), train_loss, '-b', label='train')\n",
    "ax.plot(range(len(val_loss)), val_loss, '--r', label='validation')\n",
    "leg = ax.legend()\n",
    "plt.title(\"Learning Rate\")\n",
    "plt.ylabel(\"Loss\")\n",
    "plt.xlabel(\"Per 500 Batch\")"
   ]
  },
  {
   "cell_type": "markdown",
   "metadata": {},
   "source": [
    "## 10. Length Difference"
   ]
  },
  {
   "cell_type": "code",
   "execution_count": 50,
   "metadata": {},
   "outputs": [],
   "source": [
    "# seed_torch(config.SEED)\n",
    "test_loader = DataLoader(test_dataset, batch_size=1024, shuffle=False)\n",
    "test_word_length = []\n",
    "for batch in tqdm(test_loader):\n",
    "#     nodes_count = sorted(Counter(batch.batch.data.numpy()).items(), key=lambda x: x[0])\n",
    "    x = batch.batch.data.numpy()\n",
    "    unique, counts = np.unique(x, return_counts=True)\n",
    "    test_word_length += list(counts)"
   ]
  },
  {
   "cell_type": "markdown",
   "metadata": {},
   "source": [
    "### 10-2. Saving/Reloading Length Information"
   ]
  },
  {
   "cell_type": "code",
   "execution_count": null,
   "metadata": {},
   "outputs": [],
   "source": [
    "assert len(y_prob) == len(test_word_length)\n",
    "with open(os.path.join(\"dataset/token_length/\", \"testloader_seed_{}.pkl\".format(config.SEED)), 'wb') as f:\n",
    "    pickle.dump(test_word_length, f)"
   ]
  },
  {
   "cell_type": "code",
   "execution_count": null,
   "metadata": {},
   "outputs": [],
   "source": [
    "with open(os.path.join(\"dataset/token_length/\", \"testloader_seed_{}.pkl\".format(config.SEED)), 'rb') as f:\n",
    "    test_word_length_reloaded = pickle.load(f)"
   ]
  },
  {
   "cell_type": "markdown",
   "metadata": {},
   "source": [
    "### 10-3. Plot: Length vs. Correctness"
   ]
  },
  {
   "cell_type": "code",
   "execution_count": null,
   "metadata": {},
   "outputs": [],
   "source": [
    "compared_result = [y_pred[i] == y_true[i] for i in range(len(y_true))]\n",
    "correct_word_length = [test_word_length_reloaded[idx] for idx, value in enumerate(compared_result) if value == True] # the word length list of the sample which is predicted correctly\n",
    "wrong_word_length = [test_word_length_reloaded[idx] for idx, value in enumerate(compared_result) if value == False]\n",
    "sns.distplot(correct_word_length, hist=True)\n",
    "sns.distplot(wrong_word_length, hist=True)\n",
    "plt.legend(labels=[\"correct\", \"wrong\"])"
   ]
  },
  {
   "cell_type": "markdown",
   "metadata": {},
   "source": [
    "## 11. Score in 5 Group vs. Accuracy\n",
    "\n",
    "I am interested in the prediction of the review with an original overall score from 1 to 5."
   ]
  },
  {
   "cell_type": "code",
   "execution_count": 46,
   "metadata": {},
   "outputs": [
    {
     "name": "stdout",
     "output_type": "stream",
     "text": [
      "Overall Scoree 1: 88.26%\n",
      "Overall Scoree 2: 73.54%\n",
      "Overall Scoree 3: 53.86%\n",
      "Overall Scoree 4: 81.72%\n",
      "Overall Scoree 5: 91.77%\n"
     ]
    }
   ],
   "source": [
    "compared_result = [y_pred[i] == y_true[i] for i in range(len(y_true))]\n",
    "def score_5_acc(score=3, labels=test_df[\"overall\"], compared_result=compared_result):\n",
    "    labels = list(labels)\n",
    "    selected_comared_result = [res for idx, res in enumerate(compared_result) if labels[idx] == score]\n",
    "    return round(sum(selected_comared_result) / len(selected_comared_result)*100, 2)\n",
    "\n",
    "for i in range(1, 6):\n",
    "    print(\"Overall Scoree {}: {}%\".format(i, score_5_acc(score=i,\n",
    "                                                         labels=test_df[\"overall\"],\n",
    "                                                         compared_result=compared_result)))"
   ]
  },
  {
   "cell_type": "markdown",
   "metadata": {},
   "source": [
    "## Retrain"
   ]
  },
  {
   "cell_type": "code",
   "execution_count": null,
   "metadata": {},
   "outputs": [],
   "source": [
    "model_train = model_load(config, \n",
    "                        BinGCNConv(config.NUM_FEATURES, config.N_CLASSES).to(device),\n",
    "                        name=result_name,\n",
    "                       )"
   ]
  },
  {
   "cell_type": "code",
   "execution_count": null,
   "metadata": {},
   "outputs": [],
   "source": [
    "''' initials '''\n",
    "# seed_torch(config.SEED)\n",
    "seed_torch(config.SEED)\n",
    "config.N_CLASSES = 1\n",
    "model_name = \"GCN\"\n",
    "config.max_len = 134\n",
    "config.lr = 0.0.00117649\n",
    "\n",
    "''' rebuild dataset and dataloader due to edge_index '''\n",
    "train_dataset = ReviewDataset(config,\n",
    "                       df=train_df,\n",
    "                       use_cuda=config.USE_CUDA,\n",
    "                       embeddings=BertEmbedding(max_len=config.max_len),\n",
    "                       )\n",
    "val_dataset = ReviewDataset(config,\n",
    "                       df=val_df,\n",
    "                       use_cuda=config.USE_CUDA,\n",
    "                       embeddings=BertEmbedding(max_len=config.max_len),\n",
    "                       )\n",
    "test_dataset = ReviewDataset(config,\n",
    "                       df=test_df,\n",
    "                       use_cuda=config.USE_CUDA,\n",
    "                       embeddings=BertEmbedding(max_len=config.max_len),\n",
    "                       )\n",
    "\n",
    "train_loader = DataLoader(train_dataset, batch_size=config.batch_size, shuffle=True)\n",
    "val_loader = DataLoader(val_dataset, batch_size=1024, shuffle=False)\n",
    "test_loader = DataLoader(test_dataset, batch_size=1024, shuffle=False)\n",
    "\n",
    "''' initializing the model '''\n",
    "model = model_train\n",
    "criterion = nn.BCEWithLogitsLoss().to(device)\n",
    "\n",
    "optimizer = optim.Adagrad(model.parameters(), lr=config.lr)\n",
    "\n",
    "# config.best_model = os.path.join(config.result_path, \"checkpoint/{}_{}.pth\".format(model_name,\n",
    "#                                                                                    datetime.now().strftime(\"%Y_%m_%d_%H_%M\")\n",
    "#                                                                                   )\n",
    "#                                 )\n",
    "# config.log_file = os.path.join(config.log_path, \"{}_{}.txt\".format(model_name,\n",
    "#                                                                               datetime.now().strftime(\"%Y_%m_%d_%H_%M\")\n",
    "#                                                                             )\n",
    "#                               )\n",
    "''' start training '''\n",
    "saved = True\n",
    "if 1 == 1:  # change to True to train\n",
    "    iteration = n_total = train_loss = n_bad_loss = 0\n",
    "    stop = False\n",
    "    best_val_loss = float(\"inf\")\n",
    "    init = datetime.now()\n",
    "    config.epochs = 15\n",
    "    config.log_every = 500\n",
    "    config.n_bad_loss = 4\n",
    "\n",
    "    if saved:\n",
    "        output_text = write_config(config) + \"Start record at {}\\n\".format(str(datetime.now()))\n",
    "        write_log(output_text,\n",
    "                  config.log_file,\n",
    "                  \"a+\")\n",
    "        \n",
    "    for epoch in range(1, config.epochs+1):\n",
    "        train(config, train_loader, val_loader, model, criterion, optimizer)\n",
    "        if stop:\n",
    "            break"
   ]
  }
 ],
 "metadata": {
  "kernelspec": {
   "display_name": "Python 3",
   "language": "python",
   "name": "python3"
  },
  "language_info": {
   "codemirror_mode": {
    "name": "ipython",
    "version": 3
   },
   "file_extension": ".py",
   "mimetype": "text/x-python",
   "name": "python",
   "nbconvert_exporter": "python",
   "pygments_lexer": "ipython3",
   "version": "3.7.7"
  },
  "latex_envs": {
   "LaTeX_envs_menu_present": true,
   "autoclose": false,
   "autocomplete": true,
   "bibliofile": "biblio.bib",
   "cite_by": "apalike",
   "current_citInitial": 1,
   "eqLabelWithNumbers": true,
   "eqNumInitial": 1,
   "hotkeys": {
    "equation": "Ctrl-E",
    "itemize": "Ctrl-I"
   },
   "labels_anchors": false,
   "latex_user_defs": false,
   "report_style_numbering": false,
   "user_envs_cfg": false
  },
  "varInspector": {
   "cols": {
    "lenName": 16,
    "lenType": 16,
    "lenVar": 40
   },
   "kernels_config": {
    "python": {
     "delete_cmd_postfix": "",
     "delete_cmd_prefix": "del ",
     "library": "var_list.py",
     "varRefreshCmd": "print(var_dic_list())"
    },
    "r": {
     "delete_cmd_postfix": ") ",
     "delete_cmd_prefix": "rm(",
     "library": "var_list.r",
     "varRefreshCmd": "cat(var_dic_list()) "
    }
   },
   "types_to_exclude": [
    "module",
    "function",
    "builtin_function_or_method",
    "instance",
    "_Feature"
   ],
   "window_display": false
  }
 },
 "nbformat": 4,
 "nbformat_minor": 4
}
